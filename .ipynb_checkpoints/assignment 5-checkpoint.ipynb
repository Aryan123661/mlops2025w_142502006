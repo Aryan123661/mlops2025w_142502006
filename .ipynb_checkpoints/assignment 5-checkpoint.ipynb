{
 "cells": [
  {
   "cell_type": "code",
   "execution_count": 1,
   "metadata": {
    "colab": {
     "base_uri": "https://localhost:8080/",
     "height": 1000,
     "referenced_widgets": [
      "a64971145e9f4114b4ced66f130d1ac1",
      "86685dfaa4894897956a2cf84a1562af",
      "ae130a0bd8f04ab59ad113ff6a036d71",
      "5324a068948449d59c13066a990c49b2",
      "7af52c9002dc406fb00be7a3a209c1eb",
      "121f306b661d44fd8fe6fc2a23ccf23e",
      "bb37c4b079d844e389f7caf4da594d63",
      "edd2a1516c02409aaeef5b1df06f7714",
      "419db0b284d14265a81a778c41151c9d",
      "a0d7ddad738843e4bb082e353ca58419",
      "0897722d978440b9b0e93f4cb1de796a",
      "b3bc94c0178f445984326991df5ea33c",
      "c9ef787588f84f198813f3f2ef194e10",
      "a9c2b653741147f393f1d7e92faa7732",
      "0360d964a2d84ebeb744f948a6c211f0",
      "a9461c96122c440caba4cfd1dfe35cc6",
      "7fe033a7fdde494db73d7266f587b135",
      "bdd4e5e110654300be23554a67985802",
      "3ed9f01036384b689dfad28f69849233",
      "ca0ec3cac36945ee9fdbf35c8388cf3f",
      "83c0dee5e34347b5ba29f7f6f7dd0df2",
      "182a831ddd854456a0b942b7644f0f5b",
      "5ec3174be7514aa98354494ff92f40ad",
      "840a381e173045fc964f42dfaa87c1d6",
      "a2893cefad05450cb76607d068a49d9c",
      "f1b127ad84e14197ad7952c56bf3686d",
      "4f0b462756a5449db1b065574f5bb45f",
      "7e73605980af4707928e4327167b4a35",
      "6c97605eee7a4f8cb32370d74667e735",
      "ead1ddabede24f4d86bd6b5898cae507",
      "467288b2af9e438aa2ecd4a9f5b8c4b2",
      "415ffcd6fe694680a75e04052a8c9a87",
      "820c96c6378c4f62bdecde13d7a1a6dd",
      "9c77d1fd83f54321ab4c2d8d77219984",
      "e26d275f65f040d2a787a1ad8080ece4",
      "670675ca5fa94f409ccdfc16f7ec0c3d",
      "b11f6f7e9c2242eaaa910d2f84c76979",
      "1ecf5ad306ff446ba7b3e0b83bc1d8cd",
      "036e4a12847141cea6a8039ff1f5e48e",
      "88d5b64791d54d92992a0a1c2ec7dfe5",
      "17ce8249a1ee49c1b90e15f78bc64bc7",
      "76f1669893084efe979d5417b0967a3c",
      "d20c5a2377df496d9465bd67e93432f8",
      "d99bef49e8814e2d8a2a173b89a22397",
      "3beb48e5c8bb4b0f9da9b88c4badacfa",
      "baf4770abffa4ac69f3335446e7c921a",
      "2897dce1d9384c3fbe0307cab885b869",
      "6c75740eef4346babc77a71c063fa3cc",
      "b0790a4ea7114d3da6017a31acb60cdc",
      "4ccd910dbb83440399d88e9f2b155fc1",
      "2d81f9a425464442aa5c89c02aedbae8",
      "cfa69c867d1b4ae592db3296fe36a3cd",
      "458187f44e9e4b8296c5c89852da349a",
      "a324d9b300994d2d8eda1b948db31a5f",
      "6a12a927240245bdb538bfdb3de0f64c",
      "19bb22137fce4d04a13c97132881f220",
      "3c24ddcecda7414a82c56d4136e18fc6",
      "0688b1de7eb5448e938558b71fa00480",
      "faf4e40f41d04477b67c7af08c1022da",
      "836510f7c6ea42ebb55c06a12d6de861",
      "09d6eff845cc4b38af908128d2f73780",
      "9c48cc10fe784db391fb50cb98925f07",
      "3a9967974a164b2db339847bc1d2e76b",
      "7f61fcf5d4744651b81ca153a479689c",
      "fa0788122d0e4a999900eb50a11eef83",
      "0856902e2a5240e58ffd90522417f2f5"
     ]
    },
    "id": "4DR-ehZSCwmx",
    "outputId": "d52e5109-f134-4c09-b340-ab300b8a4237"
   },
   "outputs": [
    {
     "name": "stdout",
     "output_type": "stream",
     "text": [
      "Collecting snorkel\n",
      "  Downloading snorkel-0.10.0-py3-none-any.whl.metadata (9.5 kB)\n",
      "Collecting munkres>=1.0.6 (from snorkel)\n",
      "  Downloading munkres-1.1.4-py2.py3-none-any.whl.metadata (980 bytes)\n",
      "Requirement already satisfied: numpy>=1.24.0 in /usr/local/lib/python3.12/dist-packages (from snorkel) (2.0.2)\n",
      "Requirement already satisfied: scipy>=1.2.0 in /usr/local/lib/python3.12/dist-packages (from snorkel) (1.16.2)\n",
      "Requirement already satisfied: pandas>=1.0.0 in /usr/local/lib/python3.12/dist-packages (from snorkel) (2.2.2)\n",
      "Requirement already satisfied: tqdm>=4.33.0 in /usr/local/lib/python3.12/dist-packages (from snorkel) (4.67.1)\n",
      "Requirement already satisfied: scikit-learn>=0.20.2 in /usr/local/lib/python3.12/dist-packages (from snorkel) (1.6.1)\n",
      "Requirement already satisfied: torch>=1.2.0 in /usr/local/lib/python3.12/dist-packages (from snorkel) (2.8.0+cu126)\n",
      "Requirement already satisfied: tensorboard>=2.13.0 in /usr/local/lib/python3.12/dist-packages (from snorkel) (2.19.0)\n",
      "Requirement already satisfied: protobuf>=3.19.6 in /usr/local/lib/python3.12/dist-packages (from snorkel) (5.29.5)\n",
      "Requirement already satisfied: networkx>=2.2 in /usr/local/lib/python3.12/dist-packages (from snorkel) (3.5)\n",
      "Requirement already satisfied: python-dateutil>=2.8.2 in /usr/local/lib/python3.12/dist-packages (from pandas>=1.0.0->snorkel) (2.9.0.post0)\n",
      "Requirement already satisfied: pytz>=2020.1 in /usr/local/lib/python3.12/dist-packages (from pandas>=1.0.0->snorkel) (2025.2)\n",
      "Requirement already satisfied: tzdata>=2022.7 in /usr/local/lib/python3.12/dist-packages (from pandas>=1.0.0->snorkel) (2025.2)\n",
      "Requirement already satisfied: joblib>=1.2.0 in /usr/local/lib/python3.12/dist-packages (from scikit-learn>=0.20.2->snorkel) (1.5.2)\n",
      "Requirement already satisfied: threadpoolctl>=3.1.0 in /usr/local/lib/python3.12/dist-packages (from scikit-learn>=0.20.2->snorkel) (3.6.0)\n",
      "Requirement already satisfied: absl-py>=0.4 in /usr/local/lib/python3.12/dist-packages (from tensorboard>=2.13.0->snorkel) (1.4.0)\n",
      "Requirement already satisfied: grpcio>=1.48.2 in /usr/local/lib/python3.12/dist-packages (from tensorboard>=2.13.0->snorkel) (1.75.1)\n",
      "Requirement already satisfied: markdown>=2.6.8 in /usr/local/lib/python3.12/dist-packages (from tensorboard>=2.13.0->snorkel) (3.9)\n",
      "Requirement already satisfied: packaging in /usr/local/lib/python3.12/dist-packages (from tensorboard>=2.13.0->snorkel) (25.0)\n",
      "Requirement already satisfied: setuptools>=41.0.0 in /usr/local/lib/python3.12/dist-packages (from tensorboard>=2.13.0->snorkel) (75.2.0)\n",
      "Requirement already satisfied: six>1.9 in /usr/local/lib/python3.12/dist-packages (from tensorboard>=2.13.0->snorkel) (1.17.0)\n",
      "Requirement already satisfied: tensorboard-data-server<0.8.0,>=0.7.0 in /usr/local/lib/python3.12/dist-packages (from tensorboard>=2.13.0->snorkel) (0.7.2)\n",
      "Requirement already satisfied: werkzeug>=1.0.1 in /usr/local/lib/python3.12/dist-packages (from tensorboard>=2.13.0->snorkel) (3.1.3)\n",
      "Requirement already satisfied: filelock in /usr/local/lib/python3.12/dist-packages (from torch>=1.2.0->snorkel) (3.20.0)\n",
      "Requirement already satisfied: typing-extensions>=4.10.0 in /usr/local/lib/python3.12/dist-packages (from torch>=1.2.0->snorkel) (4.15.0)\n",
      "Requirement already satisfied: sympy>=1.13.3 in /usr/local/lib/python3.12/dist-packages (from torch>=1.2.0->snorkel) (1.13.3)\n",
      "Requirement already satisfied: jinja2 in /usr/local/lib/python3.12/dist-packages (from torch>=1.2.0->snorkel) (3.1.6)\n",
      "Requirement already satisfied: fsspec in /usr/local/lib/python3.12/dist-packages (from torch>=1.2.0->snorkel) (2025.3.0)\n",
      "Requirement already satisfied: nvidia-cuda-nvrtc-cu12==12.6.77 in /usr/local/lib/python3.12/dist-packages (from torch>=1.2.0->snorkel) (12.6.77)\n",
      "Requirement already satisfied: nvidia-cuda-runtime-cu12==12.6.77 in /usr/local/lib/python3.12/dist-packages (from torch>=1.2.0->snorkel) (12.6.77)\n",
      "Requirement already satisfied: nvidia-cuda-cupti-cu12==12.6.80 in /usr/local/lib/python3.12/dist-packages (from torch>=1.2.0->snorkel) (12.6.80)\n",
      "Requirement already satisfied: nvidia-cudnn-cu12==9.10.2.21 in /usr/local/lib/python3.12/dist-packages (from torch>=1.2.0->snorkel) (9.10.2.21)\n",
      "Requirement already satisfied: nvidia-cublas-cu12==12.6.4.1 in /usr/local/lib/python3.12/dist-packages (from torch>=1.2.0->snorkel) (12.6.4.1)\n",
      "Requirement already satisfied: nvidia-cufft-cu12==11.3.0.4 in /usr/local/lib/python3.12/dist-packages (from torch>=1.2.0->snorkel) (11.3.0.4)\n",
      "Requirement already satisfied: nvidia-curand-cu12==10.3.7.77 in /usr/local/lib/python3.12/dist-packages (from torch>=1.2.0->snorkel) (10.3.7.77)\n",
      "Requirement already satisfied: nvidia-cusolver-cu12==11.7.1.2 in /usr/local/lib/python3.12/dist-packages (from torch>=1.2.0->snorkel) (11.7.1.2)\n",
      "Requirement already satisfied: nvidia-cusparse-cu12==12.5.4.2 in /usr/local/lib/python3.12/dist-packages (from torch>=1.2.0->snorkel) (12.5.4.2)\n",
      "Requirement already satisfied: nvidia-cusparselt-cu12==0.7.1 in /usr/local/lib/python3.12/dist-packages (from torch>=1.2.0->snorkel) (0.7.1)\n",
      "Requirement already satisfied: nvidia-nccl-cu12==2.27.3 in /usr/local/lib/python3.12/dist-packages (from torch>=1.2.0->snorkel) (2.27.3)\n",
      "Requirement already satisfied: nvidia-nvtx-cu12==12.6.77 in /usr/local/lib/python3.12/dist-packages (from torch>=1.2.0->snorkel) (12.6.77)\n",
      "Requirement already satisfied: nvidia-nvjitlink-cu12==12.6.85 in /usr/local/lib/python3.12/dist-packages (from torch>=1.2.0->snorkel) (12.6.85)\n",
      "Requirement already satisfied: nvidia-cufile-cu12==1.11.1.6 in /usr/local/lib/python3.12/dist-packages (from torch>=1.2.0->snorkel) (1.11.1.6)\n",
      "Requirement already satisfied: triton==3.4.0 in /usr/local/lib/python3.12/dist-packages (from torch>=1.2.0->snorkel) (3.4.0)\n",
      "Requirement already satisfied: mpmath<1.4,>=1.1.0 in /usr/local/lib/python3.12/dist-packages (from sympy>=1.13.3->torch>=1.2.0->snorkel) (1.3.0)\n",
      "Requirement already satisfied: MarkupSafe>=2.1.1 in /usr/local/lib/python3.12/dist-packages (from werkzeug>=1.0.1->tensorboard>=2.13.0->snorkel) (3.0.3)\n",
      "Downloading snorkel-0.10.0-py3-none-any.whl (103 kB)\n",
      "\u001b[2K   \u001b[90m━━━━━━━━━━━━━━━━━━━━━━━━━━━━━━━━━━━━━━━━\u001b[0m \u001b[32m103.3/103.3 kB\u001b[0m \u001b[31m3.7 MB/s\u001b[0m eta \u001b[36m0:00:00\u001b[0m\n",
      "\u001b[?25hDownloading munkres-1.1.4-py2.py3-none-any.whl (7.0 kB)\n",
      "Installing collected packages: munkres, snorkel\n",
      "Successfully installed munkres-1.1.4 snorkel-0.10.0\n"
     ]
    },
    {
     "name": "stderr",
     "output_type": "stream",
     "text": [
      "/usr/local/lib/python3.12/dist-packages/notebook/notebookapp.py:191: SyntaxWarning: invalid escape sequence '\\/'\n",
      "  | |_| | '_ \\/ _` / _` |  _/ -_)\n",
      "\u001b[34m\u001b[1mwandb\u001b[0m: \u001b[33mWARNING\u001b[0m If you're specifying your api key in code, ensure this code is not shared publicly.\n",
      "\u001b[34m\u001b[1mwandb\u001b[0m: \u001b[33mWARNING\u001b[0m Consider setting the WANDB_API_KEY environment variable, or running `wandb login` from the command line.\n",
      "\u001b[34m\u001b[1mwandb\u001b[0m: No netrc file found, creating one.\n",
      "\u001b[34m\u001b[1mwandb\u001b[0m: Appending key for api.wandb.ai to your netrc file: /root/.netrc\n",
      "\u001b[34m\u001b[1mwandb\u001b[0m: Currently logged in as: \u001b[33m142502006\u001b[0m (\u001b[33mir2023\u001b[0m) to \u001b[32mhttps://api.wandb.ai\u001b[0m. Use \u001b[1m`wandb login --relogin`\u001b[0m to force relogin\n"
     ]
    },
    {
     "name": "stdout",
     "output_type": "stream",
     "text": [
      "Loading dataset 'conll2003' from Hugging Face...\n"
     ]
    },
    {
     "name": "stderr",
     "output_type": "stream",
     "text": [
      "/usr/local/lib/python3.12/dist-packages/huggingface_hub/utils/_auth.py:94: UserWarning: \n",
      "The secret `HF_TOKEN` does not exist in your Colab secrets.\n",
      "To authenticate with the Hugging Face Hub, create a token in your settings tab (https://huggingface.co/settings/tokens), set it as secret in your Google Colab and restart your session.\n",
      "You will be able to reuse this secret in all of your notebooks.\n",
      "Please note that authentication is recommended but still optional to access public models or datasets.\n",
      "  warnings.warn(\n"
     ]
    },
    {
     "data": {
      "application/vnd.jupyter.widget-view+json": {
       "model_id": "a64971145e9f4114b4ced66f130d1ac1",
       "version_major": 2,
       "version_minor": 0
      },
      "text/plain": [
       "conll2003/train/0000.parquet:   0%|          | 0.00/1.23M [00:00<?, ?B/s]"
      ]
     },
     "metadata": {},
     "output_type": "display_data"
    },
    {
     "data": {
      "application/vnd.jupyter.widget-view+json": {
       "model_id": "b3bc94c0178f445984326991df5ea33c",
       "version_major": 2,
       "version_minor": 0
      },
      "text/plain": [
       "0000.parquet:   0%|          | 0.00/312k [00:00<?, ?B/s]"
      ]
     },
     "metadata": {},
     "output_type": "display_data"
    },
    {
     "data": {
      "application/vnd.jupyter.widget-view+json": {
       "model_id": "5ec3174be7514aa98354494ff92f40ad",
       "version_major": 2,
       "version_minor": 0
      },
      "text/plain": [
       "0000.parquet:   0%|          | 0.00/283k [00:00<?, ?B/s]"
      ]
     },
     "metadata": {},
     "output_type": "display_data"
    },
    {
     "data": {
      "application/vnd.jupyter.widget-view+json": {
       "model_id": "9c77d1fd83f54321ab4c2d8d77219984",
       "version_major": 2,
       "version_minor": 0
      },
      "text/plain": [
       "Generating train split: 0 examples [00:00, ? examples/s]"
      ]
     },
     "metadata": {},
     "output_type": "display_data"
    },
    {
     "data": {
      "application/vnd.jupyter.widget-view+json": {
       "model_id": "3beb48e5c8bb4b0f9da9b88c4badacfa",
       "version_major": 2,
       "version_minor": 0
      },
      "text/plain": [
       "Generating validation split: 0 examples [00:00, ? examples/s]"
      ]
     },
     "metadata": {},
     "output_type": "display_data"
    },
    {
     "data": {
      "application/vnd.jupyter.widget-view+json": {
       "model_id": "19bb22137fce4d04a13c97132881f220",
       "version_major": 2,
       "version_minor": 0
      },
      "text/plain": [
       "Generating test split: 0 examples [00:00, ? examples/s]"
      ]
     },
     "metadata": {},
     "output_type": "display_data"
    },
    {
     "name": "stdout",
     "output_type": "stream",
     "text": [
      "Loaded splits: ['train', 'validation', 'test']\n",
      "Computing stats for split: train ...\n",
      "Computing stats for split: validation ...\n",
      "Computing stats for split: test ...\n"
     ]
    },
    {
     "name": "stderr",
     "output_type": "stream",
     "text": [
      "\u001b[34m\u001b[1mwandb\u001b[0m: \u001b[33mWARNING\u001b[0m Using a boolean value for 'reinit' is deprecated. Use 'return_previous' or 'finish_previous' instead.\n"
     ]
    },
    {
     "data": {
      "text/html": [],
      "text/plain": [
       "<IPython.core.display.HTML object>"
      ]
     },
     "metadata": {},
     "output_type": "display_data"
    },
    {
     "data": {
      "text/html": [
       "Tracking run with wandb version 0.22.2"
      ],
      "text/plain": [
       "<IPython.core.display.HTML object>"
      ]
     },
     "metadata": {},
     "output_type": "display_data"
    },
    {
     "data": {
      "text/html": [
       "Run data is saved locally in <code>/content/wandb/run-20251013_152046-la6nkwah</code>"
      ],
      "text/plain": [
       "<IPython.core.display.HTML object>"
      ]
     },
     "metadata": {},
     "output_type": "display_data"
    },
    {
     "data": {
      "text/html": [
       "Syncing run <strong><a href='https://wandb.ai/ir2023/Q1-weak-supervision-ner/runs/la6nkwah' target=\"_blank\">radiant-wood-152</a></strong> to <a href='https://wandb.ai/ir2023/Q1-weak-supervision-ner' target=\"_blank\">Weights & Biases</a> (<a href='https://wandb.me/developer-guide' target=\"_blank\">docs</a>)<br>"
      ],
      "text/plain": [
       "<IPython.core.display.HTML object>"
      ]
     },
     "metadata": {},
     "output_type": "display_data"
    },
    {
     "data": {
      "text/html": [
       " View project at <a href='https://wandb.ai/ir2023/Q1-weak-supervision-ner' target=\"_blank\">https://wandb.ai/ir2023/Q1-weak-supervision-ner</a>"
      ],
      "text/plain": [
       "<IPython.core.display.HTML object>"
      ]
     },
     "metadata": {},
     "output_type": "display_data"
    },
    {
     "data": {
      "text/html": [
       " View run at <a href='https://wandb.ai/ir2023/Q1-weak-supervision-ner/runs/la6nkwah' target=\"_blank\">https://wandb.ai/ir2023/Q1-weak-supervision-ner/runs/la6nkwah</a>"
      ],
      "text/plain": [
       "<IPython.core.display.HTML object>"
      ]
     },
     "metadata": {},
     "output_type": "display_data"
    },
    {
     "name": "stdout",
     "output_type": "stream",
     "text": [
      "Saved and logged artifact: conll2003-dataset-stats\n",
      "\n",
      "Summary (sample):\n",
      "  total_samples: 20744\n",
      "  total_tokens: 301418\n",
      "  entity_count_PER: 17050\n",
      "  entity_count_LOC: 12316\n",
      "  entity_count_ORG: 14613\n",
      "  entity_count_MISC: 6779\n",
      "  entity_count_O: 250660\n"
     ]
    },
    {
     "data": {
      "text/html": [],
      "text/plain": [
       "<IPython.core.display.HTML object>"
      ]
     },
     "metadata": {},
     "output_type": "display_data"
    },
    {
     "data": {
      "text/html": [
       "<br>    <style><br>        .wandb-row {<br>            display: flex;<br>            flex-direction: row;<br>            flex-wrap: wrap;<br>            justify-content: flex-start;<br>            width: 100%;<br>        }<br>        .wandb-col {<br>            display: flex;<br>            flex-direction: column;<br>            flex-basis: 100%;<br>            flex: 1;<br>            padding: 10px;<br>        }<br>    </style><br><div class=\"wandb-row\"><div class=\"wandb-col\"><h3>Run summary:</h3><br/><table class=\"wandb\"><tr><td>dataset</td><td>conll2003</td></tr><tr><td>entity_count_LOC</td><td>12316</td></tr><tr><td>entity_count_MISC</td><td>6779</td></tr><tr><td>entity_count_O</td><td>250660</td></tr><tr><td>entity_count_ORG</td><td>14613</td></tr><tr><td>entity_count_PER</td><td>17050</td></tr><tr><td>entity_frac_LOC</td><td>0.04086</td></tr><tr><td>entity_frac_MISC</td><td>0.02249</td></tr><tr><td>entity_frac_O</td><td>0.8316</td></tr><tr><td>entity_frac_ORG</td><td>0.04848</td></tr><tr><td>+24</td><td>...</td></tr></table><br/></div></div>"
      ],
      "text/plain": [
       "<IPython.core.display.HTML object>"
      ]
     },
     "metadata": {},
     "output_type": "display_data"
    },
    {
     "data": {
      "text/html": [
       " View run <strong style=\"color:#cdcd00\">radiant-wood-152</strong> at: <a href='https://wandb.ai/ir2023/Q1-weak-supervision-ner/runs/la6nkwah' target=\"_blank\">https://wandb.ai/ir2023/Q1-weak-supervision-ner/runs/la6nkwah</a><br> View project at: <a href='https://wandb.ai/ir2023/Q1-weak-supervision-ner' target=\"_blank\">https://wandb.ai/ir2023/Q1-weak-supervision-ner</a><br>Synced 5 W&B file(s), 1 media file(s), 0 artifact file(s) and 0 other file(s)"
      ],
      "text/plain": [
       "<IPython.core.display.HTML object>"
      ]
     },
     "metadata": {},
     "output_type": "display_data"
    },
    {
     "data": {
      "text/html": [
       "Find logs at: <code>./wandb/run-20251013_152046-la6nkwah/logs</code>"
      ],
      "text/plain": [
       "<IPython.core.display.HTML object>"
      ]
     },
     "metadata": {},
     "output_type": "display_data"
    },
    {
     "name": "stdout",
     "output_type": "stream",
     "text": [
      "\n",
      "W&B run finished. View the run at: (no run url)\n"
     ]
    }
   ],
   "source": [
    "!pip install snorkel\n",
    "import os\n",
    "import json\n",
    "import tempfile\n",
    "from collections import Counter\n",
    "from pathlib import Path\n",
    "\n",
    "import matplotlib.pyplot as plt\n",
    "from datasets import load_dataset\n",
    "import wandb\n",
    "\n",
    "WANDB_API_KEY = \"f970db884a11ecadbb2443a0bcd166ae87d7ddc4\"\n",
    "def wandb_login():\n",
    "    \"\"\"Login to W&B using provided API key.\"\"\"\n",
    "    if WANDB_API_KEY == \"your_key_here\":\n",
    "        raise ValueError(\"Please replace WANDB_API_KEY with your actual W&B key.\")\n",
    "    os.environ[\"WANDB_API_KEY\"] = WANDB_API_KEY\n",
    "    wandb.login(key=WANDB_API_KEY)\n",
    "\n",
    "\n",
    "\n",
    "\n",
    "\n",
    "def compute_entity_counts(split_dataset):\n",
    "    \"\"\"\n",
    "    Given a HF dataset split with 'ner_tags', return:\n",
    "      - samples: number of examples\n",
    "      - tokens: total tokens\n",
    "      - entity_counts_by_tag: Counter of tag-name -> token count (e.g., 'B-PER', 'I-PER', 'O', ...)\n",
    "    \"\"\"\n",
    "    features = split_dataset.features\n",
    "    if \"ner_tags\" not in features:\n",
    "        raise ValueError(\"Split does not contain 'ner_tags' feature.\")\n",
    "    label_names = features[\"ner_tags\"].feature.names\n",
    "\n",
    "    entity_counts = Counter()\n",
    "    total_tokens = 0\n",
    "    for example in split_dataset:\n",
    "        tags = example[\"ner_tags\"]\n",
    "        total_tokens += len(tags)\n",
    "        for tag_id in tags:\n",
    "            entity_counts[label_names[tag_id]] += 1\n",
    "\n",
    "    return {\n",
    "        \"samples\": len(split_dataset),\n",
    "        \"tokens\": total_tokens,\n",
    "        \"entity_counts_by_tag\": entity_counts,\n",
    "    }\n",
    "\n",
    "\n",
    "def aggregate_coarse(entity_counts_by_tag):\n",
    "    \"\"\"\n",
    "    Convert B-/I- style tags into coarse entity categories: PER, LOC, ORG, MISC, and O.\n",
    "    Returns Counter with keys: PER, LOC, ORG, MISC, O\n",
    "    \"\"\"\n",
    "    coarse = Counter()\n",
    "    for tag, count in entity_counts_by_tag.items():\n",
    "        if tag == \"O\":\n",
    "            coarse[\"O\"] += count\n",
    "        else:\n",
    "            # tag like \"B-PER\" or \"I-LOC\"\n",
    "            parts = tag.split(\"-\", 1)\n",
    "            ent = parts[-1] if len(parts) > 1 else tag\n",
    "            if ent in {\"PER\", \"LOC\", \"ORG\", \"MISC\"}:\n",
    "                coarse[ent] += count\n",
    "            else:\n",
    "                # map unknown to MISC\n",
    "                coarse[\"MISC\"] += count\n",
    "    return coarse\n",
    "\n",
    "\n",
    "def make_bar_chart(coarse_counts, title=\"Entity counts (coarse)\"):\n",
    "    \"\"\"Return a matplotlib figure for the coarse entity counts (PER/LOC/ORG/MISC).\"\"\"\n",
    "    ents = [\"PER\", \"LOC\", \"ORG\", \"MISC\"]\n",
    "    counts = [coarse_counts.get(e, 0) for e in ents]\n",
    "    fig, ax = plt.subplots(figsize=(6, 4))\n",
    "    ax.bar(ents, counts)\n",
    "    ax.set_xlabel(\"Entity type\")\n",
    "    ax.set_ylabel(\"Token count\")\n",
    "    ax.set_title(title)\n",
    "    for i, v in enumerate(counts):\n",
    "        ax.text(i, v + max(counts) * 0.01, str(v), ha=\"center\", va=\"bottom\", fontsize=9)\n",
    "    plt.tight_layout()\n",
    "    return fig\n",
    "\n",
    "\n",
    "def main():\n",
    "\n",
    "    wandb_login()\n",
    "\n",
    "    print(\"Loading dataset 'conll2003' from Hugging Face...\")\n",
    "    dataset = load_dataset(\"eriktks/conll2003\", revision=\"convert/parquet\")\n",
    "    print(\"Loaded splits:\", list(dataset.keys()))\n",
    "\n",
    "    split_stats = {}\n",
    "    overall_entity_by_tag = Counter()\n",
    "    total_samples = 0\n",
    "    total_tokens = 0\n",
    "\n",
    "    for split_name, split_data in dataset.items():\n",
    "        print(f\"Computing stats for split: {split_name} ...\")\n",
    "        stats = compute_entity_counts(split_data)\n",
    "        split_stats[split_name] = stats\n",
    "        overall_entity_by_tag.update(stats[\"entity_counts_by_tag\"])\n",
    "        total_samples += stats[\"samples\"]\n",
    "        total_tokens += stats[\"tokens\"]\n",
    "\n",
    "    coarse_overall = aggregate_coarse(overall_entity_by_tag)\n",
    "    coarse_per_split = {\n",
    "        s: aggregate_coarse(split_stats[s][\"entity_counts_by_tag\"]) for s in split_stats\n",
    "    }\n",
    "\n",
    "    summary = {\n",
    "        \"dataset\": \"conll2003\",\n",
    "        \"total_samples\": total_samples,\n",
    "        \"total_tokens\": total_tokens,\n",
    "    }\n",
    "    for split in [\"train\", \"validation\", \"test\"]:\n",
    "        summary[f\"{split}_samples\"] = split_stats.get(split, {}).get(\"samples\", 0)\n",
    "        summary[f\"{split}_tokens\"] = split_stats.get(split, {}).get(\"tokens\", 0)\n",
    "\n",
    "    for ent in [\"PER\", \"LOC\", \"ORG\", \"MISC\", \"O\"]:\n",
    "        c = int(coarse_overall.get(ent, 0))\n",
    "        summary[f\"entity_count_{ent}\"] = c\n",
    "        summary[f\"entity_frac_{ent}\"] = c / total_tokens if total_tokens > 0 else 0.0\n",
    "\n",
    "    for split, coarse in coarse_per_split.items():\n",
    "        for ent in [\"PER\", \"LOC\", \"ORG\", \"MISC\", \"O\"]:\n",
    "            summary[f\"{split}_entity_count_{ent}\"] = int(coarse.get(ent, 0))\n",
    "\n",
    "    run = wandb.init(\n",
    "        project=\"Q1-weak-supervision-ner\",\n",
    "        job_type=\"dataset-stats\",\n",
    "        reinit=True,\n",
    "        config={\"dataset_name\": \"conll2003\"},\n",
    "    )\n",
    "\n",
    "    wandb.run.summary.update(summary)\n",
    "\n",
    "    wandb.log({\"entity_distribution_overall\": dict(coarse_overall)})\n",
    "    for split, coarse in coarse_per_split.items():\n",
    "        wandb.log({f\"entity_distribution_{split}\": dict(coarse)})\n",
    "\n",
    "    fig = make_bar_chart(coarse_overall, title=\"Coarse entity counts (overall)\")\n",
    "    wandb.log({\"entity_counts_bar\": wandb.Image(fig)})\n",
    "    plt.close(fig)\n",
    "\n",
    "    with tempfile.TemporaryDirectory() as td:\n",
    "        summary_path = Path(td) / \"conll2003_summary.json\"\n",
    "        with open(summary_path, \"w\", encoding=\"utf-8\") as f:\n",
    "            json.dump(summary, f, indent=2)\n",
    "        artifact = wandb.Artifact(\"conll2003-dataset-stats\", type=\"dataset\")\n",
    "        artifact.add_file(str(summary_path), name=\"conll2003_summary.json\")\n",
    "        run.log_artifact(artifact)\n",
    "        print(\"Saved and logged artifact:\", artifact.name)\n",
    "\n",
    "    print(\"\\nSummary (sample):\")\n",
    "    keys_to_show = [\n",
    "        \"total_samples\",\n",
    "        \"total_tokens\",\n",
    "        \"entity_count_PER\",\n",
    "        \"entity_count_LOC\",\n",
    "        \"entity_count_ORG\",\n",
    "        \"entity_count_MISC\",\n",
    "        \"entity_count_O\",\n",
    "    ]\n",
    "    for k in keys_to_show:\n",
    "        print(f\"  {k}: {summary.get(k)}\")\n",
    "\n",
    "    run.finish()\n",
    "    print(\"\\nW&B run finished. View the run at:\", wandb.run.get_url() if wandb.run else \"(no run url)\")\n",
    "\n",
    "\n",
    "if __name__ == \"__main__\":\n",
    "    main()"
   ]
  },
  {
   "cell_type": "code",
   "execution_count": 2,
   "metadata": {
    "colab": {
     "base_uri": "https://localhost:8080/",
     "height": 913
    },
    "id": "fKzV5ZW-EDGI",
    "outputId": "dd4331df-8cca-4c9c-faef-0115d72c8ff1"
   },
   "outputs": [
    {
     "name": "stderr",
     "output_type": "stream",
     "text": [
      "\u001b[34m\u001b[1mwandb\u001b[0m: \u001b[33mWARNING\u001b[0m If you're specifying your api key in code, ensure this code is not shared publicly.\n",
      "\u001b[34m\u001b[1mwandb\u001b[0m: \u001b[33mWARNING\u001b[0m Consider setting the WANDB_API_KEY environment variable, or running `wandb login` from the command line.\n",
      "\u001b[34m\u001b[1mwandb\u001b[0m: Appending key for api.wandb.ai to your netrc file: /root/.netrc\n"
     ]
    },
    {
     "name": "stdout",
     "output_type": "stream",
     "text": [
      "Building token-level dataset (this may take a moment)...\n",
      "Total tokens: 301418\n",
      "\n",
      "Labeling function metrics:\n",
      "- lf_years: labeled 801/301418 (0.0027), accuracy=0.0150\n",
      "- lf_org_suffix: labeled 243/301418 (0.0008), accuracy=0.9465\n"
     ]
    },
    {
     "data": {
      "text/html": [],
      "text/plain": [
       "<IPython.core.display.HTML object>"
      ]
     },
     "metadata": {},
     "output_type": "display_data"
    },
    {
     "data": {
      "text/html": [
       "Tracking run with wandb version 0.22.2"
      ],
      "text/plain": [
       "<IPython.core.display.HTML object>"
      ]
     },
     "metadata": {},
     "output_type": "display_data"
    },
    {
     "data": {
      "text/html": [
       "Run data is saved locally in <code>/content/wandb/run-20251013_152111-0y0k661f</code>"
      ],
      "text/plain": [
       "<IPython.core.display.HTML object>"
      ]
     },
     "metadata": {},
     "output_type": "display_data"
    },
    {
     "data": {
      "text/html": [
       "Syncing run <strong><a href='https://wandb.ai/ir2023/Q2-weak-supervision-ner/runs/0y0k661f' target=\"_blank\">faithful-snowball-8</a></strong> to <a href='https://wandb.ai/ir2023/Q2-weak-supervision-ner' target=\"_blank\">Weights & Biases</a> (<a href='https://wandb.me/developer-guide' target=\"_blank\">docs</a>)<br>"
      ],
      "text/plain": [
       "<IPython.core.display.HTML object>"
      ]
     },
     "metadata": {},
     "output_type": "display_data"
    },
    {
     "data": {
      "text/html": [
       " View project at <a href='https://wandb.ai/ir2023/Q2-weak-supervision-ner' target=\"_blank\">https://wandb.ai/ir2023/Q2-weak-supervision-ner</a>"
      ],
      "text/plain": [
       "<IPython.core.display.HTML object>"
      ]
     },
     "metadata": {},
     "output_type": "display_data"
    },
    {
     "data": {
      "text/html": [
       " View run at <a href='https://wandb.ai/ir2023/Q2-weak-supervision-ner/runs/0y0k661f' target=\"_blank\">https://wandb.ai/ir2023/Q2-weak-supervision-ner/runs/0y0k661f</a>"
      ],
      "text/plain": [
       "<IPython.core.display.HTML object>"
      ]
     },
     "metadata": {},
     "output_type": "display_data"
    },
    {
     "name": "stderr",
     "output_type": "stream",
     "text": [
      "\u001b[34m\u001b[1mwandb\u001b[0m: \u001b[33mWARNING\u001b[0m The get_url method is deprecated and will be removed in a future release. Please use `run.url` instead.\n"
     ]
    },
    {
     "name": "stdout",
     "output_type": "stream",
     "text": [
      "\n",
      "Logged LF metrics to W&B. Run URL: https://wandb.ai/ir2023/Q2-weak-supervision-ner/runs/0y0k661f\n"
     ]
    },
    {
     "data": {
      "text/html": [],
      "text/plain": [
       "<IPython.core.display.HTML object>"
      ]
     },
     "metadata": {},
     "output_type": "display_data"
    },
    {
     "data": {
      "text/html": [
       "<br>    <style><br>        .wandb-row {<br>            display: flex;<br>            flex-direction: row;<br>            flex-wrap: wrap;<br>            justify-content: flex-start;<br>            width: 100%;<br>        }<br>        .wandb-col {<br>            display: flex;<br>            flex-direction: column;<br>            flex-basis: 100%;<br>            flex: 1;<br>            padding: 10px;<br>        }<br>    </style><br><div class=\"wandb-row\"><div class=\"wandb-col\"><h3>Run history:</h3><br/><table class=\"wandb\"><tr><td>lf_org_suffix/accuracy</td><td>▁</td></tr><tr><td>lf_org_suffix/coverage</td><td>▁</td></tr><tr><td>lf_org_suffix/n_labeled</td><td>▁</td></tr><tr><td>lf_org_suffix/n_tokens</td><td>▁</td></tr><tr><td>lf_years/accuracy</td><td>▁</td></tr><tr><td>lf_years/coverage</td><td>▁</td></tr><tr><td>lf_years/n_labeled</td><td>▁</td></tr><tr><td>lf_years/n_tokens</td><td>▁</td></tr></table><br/></div><div class=\"wandb-col\"><h3>Run summary:</h3><br/><table class=\"wandb\"><tr><td>lf_org_suffix/accuracy</td><td>0.9465</td></tr><tr><td>lf_org_suffix/coverage</td><td>0.00081</td></tr><tr><td>lf_org_suffix/n_labeled</td><td>243</td></tr><tr><td>lf_org_suffix/n_tokens</td><td>301418</td></tr><tr><td>lf_years/accuracy</td><td>0.01498</td></tr><tr><td>lf_years/coverage</td><td>0.00266</td></tr><tr><td>lf_years/n_labeled</td><td>801</td></tr><tr><td>lf_years/n_tokens</td><td>301418</td></tr></table><br/></div></div>"
      ],
      "text/plain": [
       "<IPython.core.display.HTML object>"
      ]
     },
     "metadata": {},
     "output_type": "display_data"
    },
    {
     "data": {
      "text/html": [
       " View run <strong style=\"color:#cdcd00\">faithful-snowball-8</strong> at: <a href='https://wandb.ai/ir2023/Q2-weak-supervision-ner/runs/0y0k661f' target=\"_blank\">https://wandb.ai/ir2023/Q2-weak-supervision-ner/runs/0y0k661f</a><br> View project at: <a href='https://wandb.ai/ir2023/Q2-weak-supervision-ner' target=\"_blank\">https://wandb.ai/ir2023/Q2-weak-supervision-ner</a><br>Synced 5 W&B file(s), 0 media file(s), 0 artifact file(s) and 0 other file(s)"
      ],
      "text/plain": [
       "<IPython.core.display.HTML object>"
      ]
     },
     "metadata": {},
     "output_type": "display_data"
    },
    {
     "data": {
      "text/html": [
       "Find logs at: <code>./wandb/run-20251013_152111-0y0k661f/logs</code>"
      ],
      "text/plain": [
       "<IPython.core.display.HTML object>"
      ]
     },
     "metadata": {},
     "output_type": "display_data"
    }
   ],
   "source": [
    "\"\"\"\n",
    "snorkel_lfs_eval_q2.py\n",
    "\n",
    "- Loads HuggingFace conll2003\n",
    "- Implements two Snorkel labeling functions:\n",
    "    a) lf_years: detects years 1900-2099 -> returns MISC\n",
    "    b) lf_org_suffix: pattern matches organization suffixes -> returns ORG\n",
    "- Computes coverage and accuracy per-LF and logs them to W&B via wandb.log().\n",
    "\"\"\"\n",
    "\n",
    "import os\n",
    "import re\n",
    "from collections import Counter\n",
    "from typing import List\n",
    "\n",
    "from datasets import load_dataset\n",
    "import wandb\n",
    "import snorkel\n",
    "\n",
    "\n",
    "try:\n",
    "    from snorkel.labeling import labeling_function, ABSTAIN\n",
    "    SNORKEL_AVAILABLE = True\n",
    "except Exception:\n",
    "\n",
    "    SNORKEL_AVAILABLE = False\n",
    "    ABSTAIN = -1\n",
    "\n",
    "LABEL_O = 0\n",
    "LABEL_PER = 1\n",
    "LABEL_LOC = 2\n",
    "LABEL_ORG = 3\n",
    "LABEL_MISC = 4\n",
    "LABEL_NAMES = {0: \"O\", 1: \"PER\", 2: \"LOC\", 3: \"ORG\", 4: \"MISC\"}\n",
    "\n",
    "\n",
    "WANDB_API_KEY = \"f970db884a11ecadbb2443a0bcd166ae87d7ddc4\"\n",
    "def wandb_login():\n",
    "    \"\"\"Login to W&B using provided API key.\"\"\"\n",
    "    if WANDB_API_KEY == \"your_key_here\":\n",
    "        raise ValueError(\"Please replace WANDB_API_KEY with your actual W&B key.\")\n",
    "    os.environ[\"WANDB_API_KEY\"] = WANDB_API_KEY\n",
    "    wandb.login(key=WANDB_API_KEY)\n",
    "\n",
    "\n",
    "def coarse_label_from_conll_tag(tag: str) -> int:\n",
    "    \"\"\"\n",
    "    Map a tag like 'B-PER', 'I-ORG', 'O' -> coarse label integer.\n",
    "    \"\"\"\n",
    "    if tag == \"O\":\n",
    "        return LABEL_O\n",
    "    parts = tag.split(\"-\", 1)\n",
    "    if len(parts) == 2:\n",
    "        ent = parts[1]\n",
    "    else:\n",
    "        ent = tag\n",
    "    if ent == \"PER\":\n",
    "        return LABEL_PER\n",
    "    if ent == \"LOC\":\n",
    "        return LABEL_LOC\n",
    "    if ent == \"ORG\":\n",
    "        return LABEL_ORG\n",
    "    # anything else -> MISC\n",
    "    return LABEL_MISC\n",
    "\n",
    "\n",
    "def build_token_level_dataset(max_samples=None):\n",
    "    \"\"\"\n",
    "    Flatten sentence examples into token-level records.\n",
    "    Returns list of dicts: {\"token\": str, \"gold\": int}\n",
    "    max_samples: optional limit on number of sentences to process (for speed).\n",
    "    \"\"\"\n",
    "    ds = load_dataset(\"eriktks/conll2003\", revision=\"convert/parquet\")\n",
    "    records = []\n",
    "    # use train+validation+test or just train? we'll use all splits for evaluation\n",
    "    for split_name in ds.keys():\n",
    "        for i, ex in enumerate(ds[split_name]):\n",
    "            if max_samples is not None and i >= max_samples:\n",
    "                break\n",
    "            tokens = ex[\"tokens\"]\n",
    "            tags = ex[\"ner_tags\"]  # integers -> label names from dataset features\n",
    "            label_names = ds[split_name].features[\"ner_tags\"].feature.names\n",
    "            # convert tag ids to label names then to coarse\n",
    "            for tag_id, token in zip(tags, tokens):\n",
    "                tag_name = label_names[tag_id]\n",
    "                coarse = coarse_label_from_conll_tag(tag_name)\n",
    "                records.append({\"token\": token, \"gold\": coarse, \"split\": split_name})\n",
    "    return records\n",
    "\n",
    "\n",
    "# -------------------------\n",
    "# Labeling functions\n",
    "# -------------------------\n",
    "\n",
    "YEAR_REGEX = re.compile(r\"^(19\\d{2}|20\\d{2})$\")  # matches 1900-2099 strictly\n",
    "# To avoid matching things like '2020,' or '(1999)' we strip punctuation boundaries when checking.\n",
    "\n",
    "ORG_SUFFIXES = [r\"\\bInc\\.?$\", r\"\\bCorp\\.?$\", r\"\\bLtd\\.?$\", r\"\\bLLC\\.?$\", r\"\\bPLC\\.?$\"]\n",
    "ORG_SUFFIX_REGEX = re.compile(r\"(?i)(\" + r\"|\".join(s[:-1] if s.endswith(\"$\") else s for s in ORG_SUFFIXES) + r\")\\.?$\")\n",
    "\n",
    "# Snorkel decorator (if available) expects a function taking a single example arg.\n",
    "if SNORKEL_AVAILABLE:\n",
    "    @labeling_function()\n",
    "    def lf_years(x):\n",
    "        token = x[\"token\"]\n",
    "        t = token.strip().strip(\".,;:()[]\\\"'\")  # basic punctuation strip\n",
    "        if YEAR_REGEX.match(t):\n",
    "            return LABEL_MISC  # DATE/MISC as requested\n",
    "        return ABSTAIN\n",
    "\n",
    "    @labeling_function()\n",
    "    def lf_org_suffix(x):\n",
    "        token = x[\"token\"]\n",
    "        # check token endswith org suffix (case-insensitive)\n",
    "        t = token.strip()\n",
    "        # match whole token suffixes like 'Inc.' or 'Corp' etc.\n",
    "        if re.search(r\"(Inc\\.?|Corp\\.?|Ltd\\.?|LLC\\.?|PLC\\.?)$\", t, flags=re.IGNORECASE):\n",
    "            return LABEL_ORG\n",
    "        return ABSTAIN\n",
    "else:\n",
    "    # Fallback plain functions returning ints or ABSTAIN\n",
    "    def lf_years(x):\n",
    "        token = x[\"token\"]\n",
    "        t = token.strip().strip(\".,;:()[]\\\"'\")\n",
    "        if YEAR_REGEX.match(t):\n",
    "            return LABEL_MISC\n",
    "        return ABSTAIN\n",
    "\n",
    "    def lf_org_suffix(x):\n",
    "        token = x[\"token\"]\n",
    "        t = token.strip()\n",
    "        if re.search(r\"(Inc\\.?|Corp\\.?|Ltd\\.?|LLC\\.?|PLC\\.?)$\", t, flags=re.IGNORECASE):\n",
    "            return LABEL_ORG\n",
    "        return ABSTAIN\n",
    "\n",
    "\n",
    "# -------------------------\n",
    "# Evaluation helpers\n",
    "# -------------------------\n",
    "\n",
    "def evaluate_labeling_function(records: List[dict], lf_callable, lf_name: str):\n",
    "    \"\"\"\n",
    "    Apply lf_callable to every token record.\n",
    "    Compute coverage = fraction of tokens where LF != ABSTAIN.\n",
    "    Compute accuracy = fraction of labeled tokens where LF_label == gold label.\n",
    "    Returns dict of metrics.\n",
    "    \"\"\"\n",
    "    n = len(records)\n",
    "    labeled = 0\n",
    "    correct = 0\n",
    "    for rec in records:\n",
    "        lab = lf_callable(rec)\n",
    "        if lab != ABSTAIN:\n",
    "            labeled += 1\n",
    "            if lab == rec[\"gold\"]:\n",
    "                correct += 1\n",
    "    coverage = labeled / n if n > 0 else 0.0\n",
    "    accuracy = (correct / labeled) if labeled > 0 else 0.0\n",
    "    return {\n",
    "        \"lf_name\": lf_name,\n",
    "        \"n_tokens\": n,\n",
    "        \"n_labeled\": int(labeled),\n",
    "        \"coverage\": float(coverage),\n",
    "        \"accuracy\": float(accuracy),\n",
    "    }\n",
    "\n",
    "\n",
    "def main():\n",
    "    wandb_login()\n",
    "    # Build token-level dataset (use all sentences; if large, you can pass max_samples to limit)\n",
    "    print(\"Building token-level dataset (this may take a moment)...\")\n",
    "    records = build_token_level_dataset(max_samples=None)  # None -> use all\n",
    "    print(f\"Total tokens: {len(records)}\")\n",
    "\n",
    "    # Evaluate both LFs\n",
    "    metrics_years = evaluate_labeling_function(records, lf_years, \"lf_years\")\n",
    "    metrics_org = evaluate_labeling_function(records, lf_org_suffix, \"lf_org_suffix\")\n",
    "\n",
    "    # Print results locally\n",
    "    print(\"\\nLabeling function metrics:\")\n",
    "    for m in (metrics_years, metrics_org):\n",
    "        print(f\"- {m['lf_name']}: labeled {m['n_labeled']}/{m['n_tokens']} \"\n",
    "              f\"({m['coverage']:.4f}), accuracy={m['accuracy']:.4f}\")\n",
    "\n",
    "    # Log to W&B\n",
    "    run = wandb.init(\n",
    "        project=\"Q2-weak-supervision-ner\",\n",
    "        job_type=\"lf-eval\",\n",
    "        reinit=True,\n",
    "        config={\"note\": \"LF coverage and accuracy for Q2\"}\n",
    "    )\n",
    "    # Log each LF metrics\n",
    "    wandb.log({\n",
    "        \"lf_years/coverage\": metrics_years[\"coverage\"],\n",
    "        \"lf_years/accuracy\": metrics_years[\"accuracy\"],\n",
    "        \"lf_years/n_labeled\": metrics_years[\"n_labeled\"],\n",
    "        \"lf_years/n_tokens\": metrics_years[\"n_tokens\"],\n",
    "\n",
    "        \"lf_org_suffix/coverage\": metrics_org[\"coverage\"],\n",
    "        \"lf_org_suffix/accuracy\": metrics_org[\"accuracy\"],\n",
    "        \"lf_org_suffix/n_labeled\": metrics_org[\"n_labeled\"],\n",
    "        \"lf_org_suffix/n_tokens\": metrics_org[\"n_tokens\"],\n",
    "    })\n",
    "\n",
    "    # Also store the raw metrics in run.summary for quick top-level view\n",
    "    wandb.run.summary.update({\n",
    "        \"lf_years/coverage\": metrics_years[\"coverage\"],\n",
    "        \"lf_years/accuracy\": metrics_years[\"accuracy\"],\n",
    "        \"lf_org_suffix/coverage\": metrics_org[\"coverage\"],\n",
    "        \"lf_org_suffix/accuracy\": metrics_org[\"accuracy\"],\n",
    "    })\n",
    "\n",
    "    print(\"\\nLogged LF metrics to W&B. Run URL:\", wandb.run.get_url() if wandb.run else \"(no run url)\")\n",
    "    run.finish()\n",
    "\n",
    "\n",
    "if __name__ == \"__main__\":\n",
    "    main()"
   ]
  },
  {
   "cell_type": "code",
   "execution_count": 3,
   "metadata": {
    "colab": {
     "base_uri": "https://localhost:8080/",
     "height": 777
    },
    "id": "8pA6b45bEHO0",
    "outputId": "db33f4ca-d173-4da9-a4d0-5e38127d7756"
   },
   "outputs": [
    {
     "name": "stderr",
     "output_type": "stream",
     "text": [
      "\u001b[34m\u001b[1mwandb\u001b[0m: \u001b[33mWARNING\u001b[0m If you're specifying your api key in code, ensure this code is not shared publicly.\n",
      "\u001b[34m\u001b[1mwandb\u001b[0m: \u001b[33mWARNING\u001b[0m Consider setting the WANDB_API_KEY environment variable, or running `wandb login` from the command line.\n",
      "\u001b[34m\u001b[1mwandb\u001b[0m: Appending key for api.wandb.ai to your netrc file: /root/.netrc\n"
     ]
    },
    {
     "name": "stdout",
     "output_type": "stream",
     "text": [
      "Building token-level records (this may take a moment)...\n",
      "Total tokens: 301418\n",
      "Label matrix shape: (301418, 2)\n",
      "Snorkel not available — using local majority-vote aggregator.\n",
      "\n",
      "Majority-voter metrics:\n",
      "  tokens labeled: 1044/301418\n",
      "  coverage: 0.003464\n",
      "  accuracy (on labeled tokens): 0.231801\n"
     ]
    },
    {
     "data": {
      "text/html": [],
      "text/plain": [
       "<IPython.core.display.HTML object>"
      ]
     },
     "metadata": {},
     "output_type": "display_data"
    },
    {
     "data": {
      "text/html": [
       "Tracking run with wandb version 0.22.2"
      ],
      "text/plain": [
       "<IPython.core.display.HTML object>"
      ]
     },
     "metadata": {},
     "output_type": "display_data"
    },
    {
     "data": {
      "text/html": [
       "Run data is saved locally in <code>/content/wandb/run-20251013_152136-mxgc9cd8</code>"
      ],
      "text/plain": [
       "<IPython.core.display.HTML object>"
      ]
     },
     "metadata": {},
     "output_type": "display_data"
    },
    {
     "data": {
      "text/html": [
       "Syncing run <strong><a href='https://wandb.ai/ir2023/Q3-weak-supervision-ner/runs/mxgc9cd8' target=\"_blank\">young-serenity-7</a></strong> to <a href='https://wandb.ai/ir2023/Q3-weak-supervision-ner' target=\"_blank\">Weights & Biases</a> (<a href='https://wandb.me/developer-guide' target=\"_blank\">docs</a>)<br>"
      ],
      "text/plain": [
       "<IPython.core.display.HTML object>"
      ]
     },
     "metadata": {},
     "output_type": "display_data"
    },
    {
     "data": {
      "text/html": [
       " View project at <a href='https://wandb.ai/ir2023/Q3-weak-supervision-ner' target=\"_blank\">https://wandb.ai/ir2023/Q3-weak-supervision-ner</a>"
      ],
      "text/plain": [
       "<IPython.core.display.HTML object>"
      ]
     },
     "metadata": {},
     "output_type": "display_data"
    },
    {
     "data": {
      "text/html": [
       " View run at <a href='https://wandb.ai/ir2023/Q3-weak-supervision-ner/runs/mxgc9cd8' target=\"_blank\">https://wandb.ai/ir2023/Q3-weak-supervision-ner/runs/mxgc9cd8</a>"
      ],
      "text/plain": [
       "<IPython.core.display.HTML object>"
      ]
     },
     "metadata": {},
     "output_type": "display_data"
    },
    {
     "data": {
      "text/html": [],
      "text/plain": [
       "<IPython.core.display.HTML object>"
      ]
     },
     "metadata": {},
     "output_type": "display_data"
    },
    {
     "data": {
      "text/html": [
       "<br>    <style><br>        .wandb-row {<br>            display: flex;<br>            flex-direction: row;<br>            flex-wrap: wrap;<br>            justify-content: flex-start;<br>            width: 100%;<br>        }<br>        .wandb-col {<br>            display: flex;<br>            flex-direction: column;<br>            flex-basis: 100%;<br>            flex: 1;<br>            padding: 10px;<br>        }<br>    </style><br><div class=\"wandb-row\"><div class=\"wandb-col\"><h3>Run history:</h3><br/><table class=\"wandb\"><tr><td>majority/accuracy</td><td>▁</td></tr><tr><td>majority/coverage</td><td>▁</td></tr><tr><td>majority/n_labeled</td><td>▁</td></tr><tr><td>majority/n_tokens</td><td>▁</td></tr></table><br/></div><div class=\"wandb-col\"><h3>Run summary:</h3><br/><table class=\"wandb\"><tr><td>majority/accuracy</td><td>0.2318</td></tr><tr><td>majority/coverage</td><td>0.00346</td></tr><tr><td>majority/n_labeled</td><td>1044</td></tr><tr><td>majority/n_tokens</td><td>301418</td></tr></table><br/></div></div>"
      ],
      "text/plain": [
       "<IPython.core.display.HTML object>"
      ]
     },
     "metadata": {},
     "output_type": "display_data"
    },
    {
     "data": {
      "text/html": [
       " View run <strong style=\"color:#cdcd00\">young-serenity-7</strong> at: <a href='https://wandb.ai/ir2023/Q3-weak-supervision-ner/runs/mxgc9cd8' target=\"_blank\">https://wandb.ai/ir2023/Q3-weak-supervision-ner/runs/mxgc9cd8</a><br> View project at: <a href='https://wandb.ai/ir2023/Q3-weak-supervision-ner' target=\"_blank\">https://wandb.ai/ir2023/Q3-weak-supervision-ner</a><br>Synced 5 W&B file(s), 1 media file(s), 2 artifact file(s) and 0 other file(s)"
      ],
      "text/plain": [
       "<IPython.core.display.HTML object>"
      ]
     },
     "metadata": {},
     "output_type": "display_data"
    },
    {
     "data": {
      "text/html": [
       "Find logs at: <code>./wandb/run-20251013_152136-mxgc9cd8/logs</code>"
      ],
      "text/plain": [
       "<IPython.core.display.HTML object>"
      ]
     },
     "metadata": {},
     "output_type": "display_data"
    },
    {
     "name": "stdout",
     "output_type": "stream",
     "text": [
      "\n",
      "Logged majority aggregation metrics to W&B: (no run url)\n"
     ]
    }
   ],
   "source": [
    "\"\"\"\n",
    "majority_label_voter_q3.py\n",
    "\n",
    "Implements Snorkel-style majority label aggregation (MajorityLabelVoter).\n",
    "Uses two LFs:\n",
    " - lf_years -> LABEL_MISC for 1900-2099 tokens\n",
    " - lf_org_suffix -> LABEL_ORG for tokens ending with org suffixes\n",
    "\n",
    "If snorkel is installed, uses snorkel.labeling.majority_label_model.MajorityLabelVoter (or the\n",
    "LabelModel alternative). Otherwise uses local majority-vote implementation.\n",
    "\n",
    "Logs coverage/accuracy to W&B using wandb.log().\n",
    "\"\"\"\n",
    "\n",
    "import os\n",
    "import re\n",
    "import numpy as np\n",
    "from collections import Counter, defaultdict\n",
    "\n",
    "from datasets import load_dataset\n",
    "import snorkel\n",
    "import wandb\n",
    "\n",
    "# Try to import snorkel's MajorityLabelVoter if available\n",
    "try:\n",
    "    from snorkel.labeling import MajorityLabelVoter, ABSTAIN\n",
    "    SNORKEL_AVAILABLE = True\n",
    "except Exception:\n",
    "    SNORKEL_AVAILABLE = False\n",
    "    ABSTAIN = -1  # we'll use -1 for abstain\n",
    "\n",
    "# Label mapping (same as Q2)\n",
    "LABEL_O = 0\n",
    "LABEL_PER = 1\n",
    "LABEL_LOC = 2\n",
    "LABEL_ORG = 3\n",
    "LABEL_MISC = 4\n",
    "LABEL_NAMES = {0: \"O\", 1: \"PER\", 2: \"LOC\", 3: \"ORG\", 4: \"MISC\"}\n",
    "\n",
    "\n",
    "# 🔐 Insert your Weights & Biases API Key here:\n",
    "WANDB_API_KEY = \"f970db884a11ecadbb2443a0bcd166ae87d7ddc4\"\n",
    "def wandb_login():\n",
    "    \"\"\"Login to W&B using provided API key.\"\"\"\n",
    "    if WANDB_API_KEY == \"your_key_here\":\n",
    "        raise ValueError(\"Please replace WANDB_API_KEY with your actual W&B key.\")\n",
    "    os.environ[\"WANDB_API_KEY\"] = WANDB_API_KEY\n",
    "    wandb.login(key=WANDB_API_KEY)\n",
    "\n",
    "# ----- Build token-level records (flatten dataset) -----\n",
    "def coarse_label_from_conll_tag(tag: str) -> int:\n",
    "    if tag == \"O\":\n",
    "        return LABEL_O\n",
    "    parts = tag.split(\"-\", 1)\n",
    "    ent = parts[1] if len(parts) == 2 else tag\n",
    "    if ent == \"PER\":\n",
    "        return LABEL_PER\n",
    "    if ent == \"LOC\":\n",
    "        return LABEL_LOC\n",
    "    if ent == \"ORG\":\n",
    "        return LABEL_ORG\n",
    "    return LABEL_MISC\n",
    "\n",
    "\n",
    "def build_token_records(max_sentences_per_split=None):\n",
    "    ds = load_dataset(\"eriktks/conll2003\", revision=\"convert/parquet\")\n",
    "    records = []\n",
    "    for split in ds.keys():\n",
    "        for i, ex in enumerate(ds[split]):\n",
    "            if max_sentences_per_split is not None and i >= max_sentences_per_split:\n",
    "                break\n",
    "            tokens = ex[\"tokens\"]\n",
    "            tags = ex[\"ner_tags\"]\n",
    "            label_names = ds[split].features[\"ner_tags\"].feature.names\n",
    "            for token, tag_id in zip(tokens, tags):\n",
    "                tag_name = label_names[tag_id]\n",
    "                gold = coarse_label_from_conll_tag(tag_name)\n",
    "                records.append({\"token\": token, \"gold\": gold, \"split\": split})\n",
    "    return records\n",
    "\n",
    "\n",
    "# ----- Labeling functions (same as Q2) -----\n",
    "YEAR_REGEX = re.compile(r\"^(19\\d{2}|20\\d{2})$\")\n",
    "def lf_years(rec):\n",
    "    t = rec[\"token\"].strip().strip(\".,;:()[]\\\"'\")\n",
    "    if YEAR_REGEX.match(t):\n",
    "        return LABEL_MISC\n",
    "    return ABSTAIN\n",
    "\n",
    "def lf_org_suffix(rec):\n",
    "    t = rec[\"token\"].strip()\n",
    "    if re.search(r\"(Inc\\.?|Corp\\.?|Ltd\\.?|LLC\\.?|PLC\\.?)$\", t, flags=re.IGNORECASE):\n",
    "        return LABEL_ORG\n",
    "    return ABSTAIN\n",
    "\n",
    "LABELING_FUNCTIONS = [lf_years, lf_org_suffix]\n",
    "\n",
    "\n",
    "# ----- Build label matrix L (n_tokens x n_lfs) -----\n",
    "def build_label_matrix(records, lfs):\n",
    "    n = len(records)\n",
    "    m = len(lfs)\n",
    "    L = np.full((n, m), ABSTAIN, dtype=int)\n",
    "    for i, rec in enumerate(records):\n",
    "        for j, lf in enumerate(lfs):\n",
    "            try:\n",
    "                L[i, j] = lf(rec)\n",
    "            except Exception:\n",
    "                L[i, j] = ABSTAIN\n",
    "    return L\n",
    "\n",
    "\n",
    "# ----- Majority voting aggregator (fallback) -----\n",
    "def majority_vote_row(row):\n",
    "    \"\"\"\n",
    "    row: 1D array of LF outputs for a single token (values are label ints or ABSTAIN)\n",
    "    Return: aggregated label int or ABSTAIN\n",
    "    Tie-breaking strategy: if tie between two or more labels for max count, return ABSTAIN.\n",
    "    \"\"\"\n",
    "    counts = Counter([int(x) for x in row if int(x) != ABSTAIN])\n",
    "    if not counts:\n",
    "        return ABSTAIN\n",
    "    most_common = counts.most_common()\n",
    "    if len(most_common) == 0:\n",
    "        return ABSTAIN\n",
    "    # Check tie: compare top two counts\n",
    "    top_label, top_count = most_common[0]\n",
    "    if len(most_common) > 1 and most_common[1][1] == top_count:\n",
    "        # tie -> abstain\n",
    "        return ABSTAIN\n",
    "    return top_label\n",
    "\n",
    "\n",
    "def aggregate_majority_local(L):\n",
    "    # Apply majority_vote_row for each row\n",
    "    n = L.shape[0]\n",
    "    aggregated = np.full(n, ABSTAIN, dtype=int)\n",
    "    for i in range(n):\n",
    "        aggregated[i] = majority_vote_row(L[i, :])\n",
    "    return aggregated\n",
    "\n",
    "\n",
    "# ----- Evaluation -----\n",
    "def evaluate_aggregated_labels(aggr_labels, gold_labels):\n",
    "    n = len(gold_labels)\n",
    "    assert len(aggr_labels) == n\n",
    "    labeled_mask = (aggr_labels != ABSTAIN)\n",
    "    n_labeled = int(np.sum(labeled_mask))\n",
    "    coverage = n_labeled / n if n > 0 else 0.0\n",
    "    correct = int(np.sum((aggr_labels == gold_labels) & labeled_mask))\n",
    "    accuracy = (correct / n_labeled) if n_labeled > 0 else 0.0\n",
    "    return {\"n_tokens\": n, \"n_labeled\": n_labeled, \"coverage\": coverage, \"accuracy\": accuracy}\n",
    "\n",
    "\n",
    "# ----- Main flow -----\n",
    "def main():\n",
    "    wandb_login()\n",
    "    print(\"Building token-level records (this may take a moment)...\")\n",
    "    records = build_token_records(max_sentences_per_split=None)  # use all\n",
    "    n_tokens = len(records)\n",
    "    print(f\"Total tokens: {n_tokens}\")\n",
    "\n",
    "    # Build label matrix L\n",
    "    L = build_label_matrix(records, LABELING_FUNCTIONS)\n",
    "    print(\"Label matrix shape:\", L.shape)\n",
    "\n",
    "    # If snorkel is available, use its MajorityLabelVoter\n",
    "    if SNORKEL_AVAILABLE:\n",
    "        print(\"Using Snorkel's MajorityLabelVoter for aggregation...\")\n",
    "        mv = MajorityLabelVoter()\n",
    "        # Snorkel expects L as numpy array with shape (n, m)\n",
    "        aggregated = mv.predict(L)  # returns a 1D array of aggregated labels (or ABSTAIN)\n",
    "    else:\n",
    "        print(\"Snorkel not available — using local majority-vote aggregator.\")\n",
    "        aggregated = aggregate_majority_local(L)\n",
    "\n",
    "    # Evaluate aggregated labels vs gold\n",
    "    gold = np.array([rec[\"gold\"] for rec in records], dtype=int)\n",
    "    metrics = evaluate_aggregated_labels(aggregated, gold)\n",
    "\n",
    "    print(\"\\nMajority-voter metrics:\")\n",
    "    print(f\"  tokens labeled: {metrics['n_labeled']}/{metrics['n_tokens']}\")\n",
    "    print(f\"  coverage: {metrics['coverage']:.6f}\")\n",
    "    print(f\"  accuracy (on labeled tokens): {metrics['accuracy']:.6f}\")\n",
    "\n",
    "    # Log to W&B\n",
    "    run = wandb.init(\n",
    "        project=\"Q3-weak-supervision-ner\",\n",
    "        job_type=\"majority-aggregation\",\n",
    "        reinit=True,\n",
    "        config={\"n_lfs\": len(LABELING_FUNCTIONS)}\n",
    "    )\n",
    "\n",
    "    wandb.log({\n",
    "        \"majority/n_tokens\": metrics[\"n_tokens\"],\n",
    "        \"majority/n_labeled\": metrics[\"n_labeled\"],\n",
    "        \"majority/coverage\": metrics[\"coverage\"],\n",
    "        \"majority/accuracy\": metrics[\"accuracy\"],\n",
    "    })\n",
    "    # Also store a small confusion-like breakdown: counts for aggregated labels vs gold (only labeled tokens)\n",
    "    aggr_counts = Counter(int(x) for x in aggregated if int(x) != ABSTAIN)\n",
    "    wandb.log({\"majority/aggregated_label_counts\": dict(aggr_counts)})\n",
    "\n",
    "    # Optionally: log a tiny table of examples where aggregator labeled (token, aggr, gold)\n",
    "    # We'll log up to 100 examples to avoid huge uploads\n",
    "    table_rows = []\n",
    "    max_examples = 100\n",
    "    added = 0\n",
    "    for i, rec in enumerate(records):\n",
    "        if added >= max_examples:\n",
    "            break\n",
    "        if aggregated[i] != ABSTAIN:\n",
    "            table_rows.append([rec[\"token\"], int(aggregated[i]), LABEL_NAMES.get(int(aggregated[i]), str(aggregated[i])), rec[\"gold\"], LABEL_NAMES.get(rec[\"gold\"], str(rec[\"gold\"])), rec[\"split\"]])\n",
    "            added += 1\n",
    "    # create a W&B table if there are rows\n",
    "    if table_rows:\n",
    "        tb = wandb.Table(columns=[\"token\", \"aggr_label_id\", \"aggr_label_name\", \"gold_id\", \"gold_name\", \"split\"], data=table_rows)\n",
    "        wandb.log({\"majority/labeled_examples_table\": tb})\n",
    "\n",
    "    wandb.run.summary.update({\n",
    "        \"majority/coverage\": metrics[\"coverage\"],\n",
    "        \"majority/accuracy\": metrics[\"accuracy\"],\n",
    "    })\n",
    "\n",
    "    run.finish()\n",
    "    print(\"\\nLogged majority aggregation metrics to W&B:\", wandb.run.get_url() if wandb.run else \"(no run url)\")\n",
    "\n",
    "\n",
    "if __name__ == \"__main__\":\n",
    "    main()"
   ]
  },
  {
   "cell_type": "code",
   "execution_count": null,
   "metadata": {
    "colab": {
     "base_uri": "https://localhost:8080/",
     "height": 1000
    },
    "id": "xhF5LxriERy6",
    "outputId": "f3700148-b0c3-4af4-ded7-4a69235f21bf"
   },
   "outputs": [
    {
     "name": "stdout",
     "output_type": "stream",
     "text": [
      "Requirement already satisfied: torchvision in /usr/local/lib/python3.12/dist-packages (0.23.0+cu126)\n",
      "Requirement already satisfied: torchaudio in /usr/local/lib/python3.12/dist-packages (2.8.0+cu126)\n",
      "Requirement already satisfied: wandb in /usr/local/lib/python3.12/dist-packages (0.22.2)\n",
      "Requirement already satisfied: numpy in /usr/local/lib/python3.12/dist-packages (from torchvision) (2.0.2)\n",
      "Requirement already satisfied: torch==2.8.0 in /usr/local/lib/python3.12/dist-packages (from torchvision) (2.8.0+cu126)\n",
      "Requirement already satisfied: pillow!=8.3.*,>=5.3.0 in /usr/local/lib/python3.12/dist-packages (from torchvision) (11.3.0)\n",
      "Requirement already satisfied: filelock in /usr/local/lib/python3.12/dist-packages (from torch==2.8.0->torchvision) (3.20.0)\n",
      "Requirement already satisfied: typing-extensions>=4.10.0 in /usr/local/lib/python3.12/dist-packages (from torch==2.8.0->torchvision) (4.15.0)\n",
      "Requirement already satisfied: setuptools in /usr/local/lib/python3.12/dist-packages (from torch==2.8.0->torchvision) (75.2.0)\n",
      "Requirement already satisfied: sympy>=1.13.3 in /usr/local/lib/python3.12/dist-packages (from torch==2.8.0->torchvision) (1.13.3)\n",
      "Requirement already satisfied: networkx in /usr/local/lib/python3.12/dist-packages (from torch==2.8.0->torchvision) (3.5)\n",
      "Requirement already satisfied: jinja2 in /usr/local/lib/python3.12/dist-packages (from torch==2.8.0->torchvision) (3.1.6)\n",
      "Requirement already satisfied: fsspec in /usr/local/lib/python3.12/dist-packages (from torch==2.8.0->torchvision) (2025.3.0)\n",
      "Requirement already satisfied: nvidia-cuda-nvrtc-cu12==12.6.77 in /usr/local/lib/python3.12/dist-packages (from torch==2.8.0->torchvision) (12.6.77)\n",
      "Requirement already satisfied: nvidia-cuda-runtime-cu12==12.6.77 in /usr/local/lib/python3.12/dist-packages (from torch==2.8.0->torchvision) (12.6.77)\n",
      "Requirement already satisfied: nvidia-cuda-cupti-cu12==12.6.80 in /usr/local/lib/python3.12/dist-packages (from torch==2.8.0->torchvision) (12.6.80)\n",
      "Requirement already satisfied: nvidia-cudnn-cu12==9.10.2.21 in /usr/local/lib/python3.12/dist-packages (from torch==2.8.0->torchvision) (9.10.2.21)\n",
      "Requirement already satisfied: nvidia-cublas-cu12==12.6.4.1 in /usr/local/lib/python3.12/dist-packages (from torch==2.8.0->torchvision) (12.6.4.1)\n",
      "Requirement already satisfied: nvidia-cufft-cu12==11.3.0.4 in /usr/local/lib/python3.12/dist-packages (from torch==2.8.0->torchvision) (11.3.0.4)\n",
      "Requirement already satisfied: nvidia-curand-cu12==10.3.7.77 in /usr/local/lib/python3.12/dist-packages (from torch==2.8.0->torchvision) (10.3.7.77)\n",
      "Requirement already satisfied: nvidia-cusolver-cu12==11.7.1.2 in /usr/local/lib/python3.12/dist-packages (from torch==2.8.0->torchvision) (11.7.1.2)\n",
      "Requirement already satisfied: nvidia-cusparse-cu12==12.5.4.2 in /usr/local/lib/python3.12/dist-packages (from torch==2.8.0->torchvision) (12.5.4.2)\n",
      "Requirement already satisfied: nvidia-cusparselt-cu12==0.7.1 in /usr/local/lib/python3.12/dist-packages (from torch==2.8.0->torchvision) (0.7.1)\n",
      "Requirement already satisfied: nvidia-nccl-cu12==2.27.3 in /usr/local/lib/python3.12/dist-packages (from torch==2.8.0->torchvision) (2.27.3)\n",
      "Requirement already satisfied: nvidia-nvtx-cu12==12.6.77 in /usr/local/lib/python3.12/dist-packages (from torch==2.8.0->torchvision) (12.6.77)\n",
      "Requirement already satisfied: nvidia-nvjitlink-cu12==12.6.85 in /usr/local/lib/python3.12/dist-packages (from torch==2.8.0->torchvision) (12.6.85)\n",
      "Requirement already satisfied: nvidia-cufile-cu12==1.11.1.6 in /usr/local/lib/python3.12/dist-packages (from torch==2.8.0->torchvision) (1.11.1.6)\n",
      "Requirement already satisfied: triton==3.4.0 in /usr/local/lib/python3.12/dist-packages (from torch==2.8.0->torchvision) (3.4.0)\n",
      "Requirement already satisfied: click>=8.0.1 in /usr/local/lib/python3.12/dist-packages (from wandb) (8.3.0)\n",
      "Requirement already satisfied: gitpython!=3.1.29,>=1.0.0 in /usr/local/lib/python3.12/dist-packages (from wandb) (3.1.45)\n",
      "Requirement already satisfied: packaging in /usr/local/lib/python3.12/dist-packages (from wandb) (25.0)\n",
      "Requirement already satisfied: platformdirs in /usr/local/lib/python3.12/dist-packages (from wandb) (4.5.0)\n",
      "Requirement already satisfied: protobuf!=4.21.0,!=5.28.0,<7,>=3.19.0 in /usr/local/lib/python3.12/dist-packages (from wandb) (5.29.5)\n",
      "Requirement already satisfied: pydantic<3 in /usr/local/lib/python3.12/dist-packages (from wandb) (2.11.10)\n",
      "Requirement already satisfied: pyyaml in /usr/local/lib/python3.12/dist-packages (from wandb) (6.0.3)\n",
      "Requirement already satisfied: requests<3,>=2.0.0 in /usr/local/lib/python3.12/dist-packages (from wandb) (2.32.4)\n",
      "Requirement already satisfied: sentry-sdk>=2.0.0 in /usr/local/lib/python3.12/dist-packages (from wandb) (2.40.0)\n",
      "Requirement already satisfied: gitdb<5,>=4.0.1 in /usr/local/lib/python3.12/dist-packages (from gitpython!=3.1.29,>=1.0.0->wandb) (4.0.12)\n",
      "Requirement already satisfied: annotated-types>=0.6.0 in /usr/local/lib/python3.12/dist-packages (from pydantic<3->wandb) (0.7.0)\n",
      "Requirement already satisfied: pydantic-core==2.33.2 in /usr/local/lib/python3.12/dist-packages (from pydantic<3->wandb) (2.33.2)\n",
      "Requirement already satisfied: typing-inspection>=0.4.0 in /usr/local/lib/python3.12/dist-packages (from pydantic<3->wandb) (0.4.2)\n",
      "Requirement already satisfied: charset_normalizer<4,>=2 in /usr/local/lib/python3.12/dist-packages (from requests<3,>=2.0.0->wandb) (3.4.3)\n",
      "Requirement already satisfied: idna<4,>=2.5 in /usr/local/lib/python3.12/dist-packages (from requests<3,>=2.0.0->wandb) (3.10)\n",
      "Requirement already satisfied: urllib3<3,>=1.21.1 in /usr/local/lib/python3.12/dist-packages (from requests<3,>=2.0.0->wandb) (2.5.0)\n",
      "Requirement already satisfied: certifi>=2017.4.17 in /usr/local/lib/python3.12/dist-packages (from requests<3,>=2.0.0->wandb) (2025.10.5)\n",
      "Requirement already satisfied: smmap<6,>=3.0.1 in /usr/local/lib/python3.12/dist-packages (from gitdb<5,>=4.0.1->gitpython!=3.1.29,>=1.0.0->wandb) (5.0.2)\n",
      "Requirement already satisfied: mpmath<1.4,>=1.1.0 in /usr/local/lib/python3.12/dist-packages (from sympy>=1.13.3->torch==2.8.0->torchvision) (1.3.0)\n",
      "Requirement already satisfied: MarkupSafe>=2.0 in /usr/local/lib/python3.12/dist-packages (from jinja2->torch==2.8.0->torchvision) (3.0.3)\n",
      "Using device: cuda\n"
     ]
    },
    {
     "name": "stderr",
     "output_type": "stream",
     "text": [
      "/usr/local/lib/python3.12/dist-packages/torchvision/models/_utils.py:208: UserWarning: The parameter 'pretrained' is deprecated since 0.13 and may be removed in the future, please use 'weights' instead.\n",
      "  warnings.warn(\n",
      "/usr/local/lib/python3.12/dist-packages/torchvision/models/_utils.py:223: UserWarning: Arguments other than a weight enum or `None` for 'weights' are deprecated since 0.13 and may be removed in the future. The current behavior is equivalent to passing `weights=None`.\n",
      "  warnings.warn(msg)\n"
     ]
    },
    {
     "data": {
      "text/html": [],
      "text/plain": [
       "<IPython.core.display.HTML object>"
      ]
     },
     "metadata": {},
     "output_type": "display_data"
    },
    {
     "data": {
      "text/html": [
       "Tracking run with wandb version 0.22.2"
      ],
      "text/plain": [
       "<IPython.core.display.HTML object>"
      ]
     },
     "metadata": {},
     "output_type": "display_data"
    },
    {
     "data": {
      "text/html": [
       "Run data is saved locally in <code>/content/wandb/run-20251013_152153-dv8rbu09</code>"
      ],
      "text/plain": [
       "<IPython.core.display.HTML object>"
      ]
     },
     "metadata": {},
     "output_type": "display_data"
    },
    {
     "data": {
      "text/html": [
       "Syncing run <strong><a href='https://wandb.ai/ir2023/cifar-sequential-wandb/runs/dv8rbu09' target=\"_blank\">CIFAR100_then_CIFAR10</a></strong> to <a href='https://wandb.ai/ir2023/cifar-sequential-wandb' target=\"_blank\">Weights & Biases</a> (<a href='https://wandb.me/developer-guide' target=\"_blank\">docs</a>)<br>"
      ],
      "text/plain": [
       "<IPython.core.display.HTML object>"
      ]
     },
     "metadata": {},
     "output_type": "display_data"
    },
    {
     "data": {
      "text/html": [
       " View project at <a href='https://wandb.ai/ir2023/cifar-sequential-wandb' target=\"_blank\">https://wandb.ai/ir2023/cifar-sequential-wandb</a>"
      ],
      "text/plain": [
       "<IPython.core.display.HTML object>"
      ]
     },
     "metadata": {},
     "output_type": "display_data"
    },
    {
     "data": {
      "text/html": [
       " View run at <a href='https://wandb.ai/ir2023/cifar-sequential-wandb/runs/dv8rbu09' target=\"_blank\">https://wandb.ai/ir2023/cifar-sequential-wandb/runs/dv8rbu09</a>"
      ],
      "text/plain": [
       "<IPython.core.display.HTML object>"
      ]
     },
     "metadata": {},
     "output_type": "display_data"
    },
    {
     "name": "stderr",
     "output_type": "stream",
     "text": [
      "100%|██████████| 170M/170M [00:09<00:00, 17.8MB/s]\n",
      "100%|██████████| 169M/169M [00:05<00:00, 29.0MB/s]\n",
      "/usr/local/lib/python3.12/dist-packages/torchvision/models/_utils.py:208: UserWarning: The parameter 'pretrained' is deprecated since 0.13 and may be removed in the future, please use 'weights' instead.\n",
      "  warnings.warn(\n",
      "/usr/local/lib/python3.12/dist-packages/torchvision/models/_utils.py:223: UserWarning: Arguments other than a weight enum or `None` for 'weights' are deprecated since 0.13 and may be removed in the future. The current behavior is equivalent to passing `weights=None`.\n",
      "  warnings.warn(msg)\n",
      "/usr/local/lib/python3.12/dist-packages/torchvision/models/_utils.py:208: UserWarning: The parameter 'pretrained' is deprecated since 0.13 and may be removed in the future, please use 'weights' instead.\n",
      "  warnings.warn(\n",
      "/usr/local/lib/python3.12/dist-packages/torchvision/models/_utils.py:223: UserWarning: Arguments other than a weight enum or `None` for 'weights' are deprecated since 0.13 and may be removed in the future. The current behavior is equivalent to passing `weights=None`.\n",
      "  warnings.warn(msg)\n"
     ]
    },
    {
     "data": {
      "text/html": [],
      "text/plain": [
       "<IPython.core.display.HTML object>"
      ]
     },
     "metadata": {},
     "output_type": "display_data"
    },
    {
     "data": {
      "text/html": [
       "<br>    <style><br>        .wandb-row {<br>            display: flex;<br>            flex-direction: row;<br>            flex-wrap: wrap;<br>            justify-content: flex-start;<br>            width: 100%;<br>        }<br>        .wandb-col {<br>            display: flex;<br>            flex-direction: column;<br>            flex-basis: 100%;<br>            flex: 1;<br>            padding: 10px;<br>        }<br>    </style><br><div class=\"wandb-row\"><div class=\"wandb-col\"><h3>Run history:</h3><br/><table class=\"wandb\"><tr><td>CIFAR10/train_acc</td><td>▁▃▄▅▆▆▇▇▇▇▇▇▇▇▇█████████████████████████</td></tr><tr><td>CIFAR10/train_loss</td><td>█▆▄▄▃▃▃▂▂▂▂▂▂▁▁▁▁▁▁▁▁▁▁▁▁▁▁▁▁▁▁▁▁▁▁▁▁▁▁▁</td></tr><tr><td>CIFAR10/val_acc</td><td>▁▅▆▆▆▇▇▇▇▇▇█████████████████████████████</td></tr><tr><td>CIFAR10/val_loss</td><td>█▇▅▃▃▂▂▂▂▂▂▂▁▁▁▁▁▁▁▁▁▁▁▁▁▁▁▁▁▁▁▁▁▁▁▁▁▁▁▁</td></tr><tr><td>CIFAR100/train_acc</td><td>▁▂▄▅▅▆▆▆▆▆▇▇▇▇▇▇▇▇▇█████████████████████</td></tr><tr><td>CIFAR100/train_loss</td><td>█▇▆▅▄▄▃▃▃▂▂▂▂▂▂▂▂▂▂▂▁▁▁▁▁▁▁▁▁▁▁▁▁▁▁▁▁▁▁▁</td></tr><tr><td>CIFAR100/val_acc</td><td>▁▂▂▃▃▅▆▅▆▆▆▆▆▆▆▆▆▆▆▆▆███████████████████</td></tr><tr><td>CIFAR100/val_loss</td><td>█▆▅▄▄▃▄▂▂▂▂▃▂▂▃▂▂▂▃▂▂▃▃▃▁▁▁▁▁▁▁▁▁▁▁▁▁▁▁▁</td></tr><tr><td>after_CIFAR10/CIFAR100_acc</td><td>▁</td></tr><tr><td>after_CIFAR10/CIFAR100_loss</td><td>▁</td></tr><tr><td>+16</td><td>...</td></tr></table><br/></div><div class=\"wandb-col\"><h3>Run summary:</h3><br/><table class=\"wandb\"><tr><td>CIFAR10/train_acc</td><td>0.94992</td></tr><tr><td>CIFAR10/train_loss</td><td>0.21328</td></tr><tr><td>CIFAR10/val_acc</td><td>0.91</td></tr><tr><td>CIFAR10/val_loss</td><td>0.31305</td></tr><tr><td>CIFAR100/train_acc</td><td>0.99952</td></tr><tr><td>CIFAR100/train_loss</td><td>0.01398</td></tr><tr><td>CIFAR100/val_acc</td><td>0.7498</td></tr><tr><td>CIFAR100/val_loss</td><td>0.99182</td></tr><tr><td>after_CIFAR10/CIFAR100_acc</td><td>0.0118</td></tr><tr><td>after_CIFAR10/CIFAR100_loss</td><td>4.62059</td></tr><tr><td>+17</td><td>...</td></tr></table><br/></div></div>"
      ],
      "text/plain": [
       "<IPython.core.display.HTML object>"
      ]
     },
     "metadata": {},
     "output_type": "display_data"
    },
    {
     "data": {
      "text/html": [
       " View run <strong style=\"color:#cdcd00\">CIFAR100_then_CIFAR10</strong> at: <a href='https://wandb.ai/ir2023/cifar-sequential-wandb/runs/dv8rbu09' target=\"_blank\">https://wandb.ai/ir2023/cifar-sequential-wandb/runs/dv8rbu09</a><br> View project at: <a href='https://wandb.ai/ir2023/cifar-sequential-wandb' target=\"_blank\">https://wandb.ai/ir2023/cifar-sequential-wandb</a><br>Synced 5 W&B file(s), 8 media file(s), 20 artifact file(s) and 0 other file(s)"
      ],
      "text/plain": [
       "<IPython.core.display.HTML object>"
      ]
     },
     "metadata": {},
     "output_type": "display_data"
    },
    {
     "data": {
      "text/html": [
       "Find logs at: <code>./wandb/run-20251013_152153-dv8rbu09/logs</code>"
      ],
      "text/plain": [
       "<IPython.core.display.HTML object>"
      ]
     },
     "metadata": {},
     "output_type": "display_data"
    },
    {
     "data": {
      "text/html": [],
      "text/plain": [
       "<IPython.core.display.HTML object>"
      ]
     },
     "metadata": {},
     "output_type": "display_data"
    },
    {
     "data": {
      "text/html": [
       "Tracking run with wandb version 0.22.2"
      ],
      "text/plain": [
       "<IPython.core.display.HTML object>"
      ]
     },
     "metadata": {},
     "output_type": "display_data"
    },
    {
     "data": {
      "text/html": [
       "Run data is saved locally in <code>/content/wandb/run-20251013_173731-487sijl0</code>"
      ],
      "text/plain": [
       "<IPython.core.display.HTML object>"
      ]
     },
     "metadata": {},
     "output_type": "display_data"
    },
    {
     "data": {
      "text/html": [
       "Syncing run <strong><a href='https://wandb.ai/ir2023/cifar-sequential-wandb/runs/487sijl0' target=\"_blank\">CIFAR10_then_CIFAR100</a></strong> to <a href='https://wandb.ai/ir2023/cifar-sequential-wandb' target=\"_blank\">Weights & Biases</a> (<a href='https://wandb.me/developer-guide' target=\"_blank\">docs</a>)<br>"
      ],
      "text/plain": [
       "<IPython.core.display.HTML object>"
      ]
     },
     "metadata": {},
     "output_type": "display_data"
    },
    {
     "data": {
      "text/html": [
       " View project at <a href='https://wandb.ai/ir2023/cifar-sequential-wandb' target=\"_blank\">https://wandb.ai/ir2023/cifar-sequential-wandb</a>"
      ],
      "text/plain": [
       "<IPython.core.display.HTML object>"
      ]
     },
     "metadata": {},
     "output_type": "display_data"
    },
    {
     "data": {
      "text/html": [
       " View run at <a href='https://wandb.ai/ir2023/cifar-sequential-wandb/runs/487sijl0' target=\"_blank\">https://wandb.ai/ir2023/cifar-sequential-wandb/runs/487sijl0</a>"
      ],
      "text/plain": [
       "<IPython.core.display.HTML object>"
      ]
     },
     "metadata": {},
     "output_type": "display_data"
    }
   ],
   "source": [
    "# Cell 1 — Install dependencies\n",
    "!pip install torchvision torchaudio wandb\n",
    "import torchvision\n",
    "import torchaudio\n",
    "\n",
    "import wandb\n",
    "wandb.login()\n",
    "\n",
    "import os\n",
    "import random\n",
    "import time\n",
    "from pathlib import Path\n",
    "from typing import Tuple, Dict\n",
    "\n",
    "import numpy as np\n",
    "import torch\n",
    "import torch.nn as nn\n",
    "import torch.optim as optim\n",
    "import torchvision\n",
    "import torchvision.transforms as transforms\n",
    "from torch.utils.data import DataLoader, Subset\n",
    "from torchvision.models import resnet18\n",
    "\n",
    "import wandb\n",
    "\n",
    "device = torch.device(\"cuda\" if torch.cuda.is_available() else \"cpu\")\n",
    "print(\"Using device:\", device)\n",
    "\n",
    "def set_seed(seed=42):\n",
    "    random.seed(seed)\n",
    "    torch.manual_seed(seed)\n",
    "    torch.cuda.manual_seed_all(seed)\n",
    "set_seed(42)\n",
    "\n",
    "# Cell 4 — Dataloaders factory\n",
    "def get_cifar_loaders(name: str, batch_size=256, num_workers=2, augment=True):\n",
    "    assert name in (\"CIFAR10\", \"CIFAR100\")\n",
    "    if name == \"CIFAR10\":\n",
    "        dataset_class = torchvision.datasets.CIFAR10\n",
    "    else:\n",
    "        dataset_class = torchvision.datasets.CIFAR100\n",
    "\n",
    "    mean = (0.4914, 0.4822, 0.4465)\n",
    "    std  = (0.2470, 0.2435, 0.2616)\n",
    "\n",
    "    train_transforms = [\n",
    "        transforms.RandomCrop(32, padding=4),\n",
    "        transforms.RandomHorizontalFlip(),\n",
    "        transforms.ToTensor(),\n",
    "        transforms.Normalize(mean, std)\n",
    "    ] if augment else [transforms.ToTensor(), transforms.Normalize(mean,std)]\n",
    "\n",
    "    test_transforms = [transforms.ToTensor(), transforms.Normalize(mean,std)]\n",
    "\n",
    "    trainset = dataset_class(root='./data', train=True, download=True, transform=transforms.Compose(train_transforms))\n",
    "    testset  = dataset_class(root='./data', train=False, download=True, transform=transforms.Compose(test_transforms))\n",
    "\n",
    "    train_loader = DataLoader(trainset, batch_size=batch_size, shuffle=True, num_workers=num_workers, pin_memory=True)\n",
    "    test_loader  = DataLoader(testset, batch_size=batch_size, shuffle=False, num_workers=num_workers, pin_memory=True)\n",
    "    return train_loader, test_loader, trainset, testset\n",
    "\n",
    "# Cell 5 — Model builder (ResNet18 adapted to num_classes)\n",
    "def build_model(num_classes: int, pretrained=False):\n",
    "    model = resnet18(pretrained=pretrained)\n",
    "    # adapt first conv for CIFAR (32x32): change kernel_size=3, stride=1, padding=1\n",
    "    model.conv1 = torch.nn.Conv2d(3, 64, kernel_size=3, stride=1, padding=1, bias=False)\n",
    "    model.maxpool = torch.nn.Identity()\n",
    "    model.fc = torch.nn.Linear(model.fc.in_features, num_classes)\n",
    "    return model\n",
    "\n",
    "# Cell 6 — Training/validation utilities + logging helpers\n",
    "from sklearn.metrics import confusion_matrix\n",
    "\n",
    "def evaluate(model, dataloader, device):\n",
    "    model.eval()\n",
    "    correct = 0\n",
    "    total = 0\n",
    "    losses = []\n",
    "    criterion = nn.CrossEntropyLoss()\n",
    "    preds = []\n",
    "    targets = []\n",
    "    with torch.no_grad():\n",
    "        for x, y in dataloader:\n",
    "            x = x.to(device)\n",
    "            y = y.to(device)\n",
    "            out = model(x)\n",
    "            loss = criterion(out, y)\n",
    "            losses.append(loss.item())\n",
    "            _, p = out.max(1)\n",
    "            correct += (p == y).sum().item()\n",
    "            total += y.size(0)\n",
    "            preds.append(p.cpu().numpy())\n",
    "            targets.append(y.cpu().numpy())\n",
    "    avg_loss = float(np.mean(losses))\n",
    "    acc = correct / total\n",
    "    preds = np.concatenate(preds)\n",
    "    targets = np.concatenate(targets)\n",
    "    return avg_loss, acc, preds, targets\n",
    "\n",
    "def log_confusion_matrix(targets, preds, class_labels, step=None, prefix=\"\"):\n",
    "    # simple confusion matrix logging to W&B (as a table)\n",
    "    cm = confusion_matrix(targets, preds)\n",
    "    # Normalize for readability\n",
    "    cm_norm = cm.astype(float)\n",
    "    with np.errstate(divide='ignore', invalid='ignore'):\n",
    "        row_sums = cm_norm.sum(axis=1, keepdims=True)\n",
    "        cm_norm = np.divide(cm_norm, row_sums, where=row_sums!=0)\n",
    "    # Log as an image via wandb.plot.confusion_matrix if available\n",
    "    try:\n",
    "        wandb.log({f\"{prefix}confusion_matrix\": wandb.plot.confusion_matrix(probs=None,\n",
    "                                                                           y_true=targets.tolist(),\n",
    "                                                                           preds=preds.tolist(),\n",
    "                                                                           class_names=class_labels)},\n",
    "                  step=step)\n",
    "    except Exception:\n",
    "        # fallback to logging the raw matrix as artifact/table\n",
    "        wandb.log({f\"{prefix}confusion_matrix_array\": cm.tolist()}, step=step)\n",
    "\n",
    "# Cell 7 — Training loop that supports sequential datasets, and forgetting measurement\n",
    "def run_sequential_experiment(seq, base_seed=42, epochs_per_task=100, batch_size=256, lr=0.01, weight_decay=5e-4):\n",
    "    \"\"\"\n",
    "    seq: list like [\"CIFAR100\", \"CIFAR10\"] in the order to train\n",
    "    \"\"\"\n",
    "    set_seed(base_seed)\n",
    "    # Common initialization: same seed -> same initial weights for both experiments\n",
    "    initial_model = build_model(num_classes=100)  # create model with largest class count\n",
    "    init_state = initial_model.state_dict()\n",
    "\n",
    "    # Initialize a W&B run for this experiment\n",
    "    run_name = \"_then_\".join(seq)\n",
    "    wandb.init(project=\"cifar-sequential-wandb\", name=run_name, config={\n",
    "        \"sequence\": seq,\n",
    "        \"epochs_per_task\": epochs_per_task,\n",
    "        \"batch_size\": batch_size,\n",
    "        \"lr\": lr,\n",
    "        \"weight_decay\": weight_decay,\n",
    "        \"seed\": base_seed,\n",
    "        \"model\": \"resnet18_cifar\"\n",
    "    })\n",
    "\n",
    "    model = build_model(num_classes=100).to(device)\n",
    "    model.load_state_dict(init_state)  # ensure same start across experiments\n",
    "\n",
    "    optimizer = optim.SGD(model.parameters(), lr=lr, momentum=0.9, weight_decay=weight_decay)\n",
    "    scheduler = optim.lr_scheduler.StepLR(optimizer, step_size=50, gamma=0.1)\n",
    "    criterion = nn.CrossEntropyLoss()\n",
    "\n",
    "    # Keep holdouts for both datasets so we can measure forgetting\n",
    "    holdouts = {}  # name -> (dataloader, num_classes, class_labels)\n",
    "    dataloaders = {}  # current dataloaders\n",
    "    datasets_full = {}\n",
    "\n",
    "    for name in (\"CIFAR10\",\"CIFAR100\"):\n",
    "        train_loader, test_loader, trainset, testset = get_cifar_loaders(name, batch_size=batch_size, augment=True)\n",
    "        dataloaders[name] = (train_loader, test_loader)\n",
    "        datasets_full[name] = (trainset, testset)\n",
    "        # class labels\n",
    "        if name==\"CIFAR10\":\n",
    "            labels = [str(i) for i in range(10)]\n",
    "        else:\n",
    "            labels = [str(i) for i in range(100)]\n",
    "        holdouts[name] = (test_loader, len(labels), labels)\n",
    "\n",
    "    # Track checkpoint before any training (to measure initial performance)\n",
    "    performance = {}\n",
    "\n",
    "    # Evaluate initial model on both testsets (after adapting final layer to dataset num_classes)\n",
    "    def eval_on_dataset(model, name):\n",
    "        # Create copy of model and adapt final layer (since we used num_classes=100)\n",
    "        n_classes = 10 if name==\"CIFAR10\" else 100\n",
    "        m = build_model(num_classes=n_classes).to(device)\n",
    "        # copy all weights except final fc (if shapes differ)\n",
    "        sd = model.state_dict()\n",
    "        m_sd = m.state_dict()\n",
    "        # copy compatible keys\n",
    "        for k in m_sd:\n",
    "            if k in sd and sd[k].shape == m_sd[k].shape:\n",
    "                m_sd[k] = sd[k]\n",
    "        m.load_state_dict(m_sd)\n",
    "        return evaluate(m, holdouts[name][0], device)\n",
    "\n",
    "    # Initial eval\n",
    "    for name in seq:\n",
    "        loss, acc, _, _ = eval_on_dataset(model, name)\n",
    "        wandb.log({f\"initial/{name}_loss\": loss, f\"initial/{name}_acc\": acc}, step=0)\n",
    "        performance[f\"initial_{name}\"] = (loss, acc)\n",
    "\n",
    "    global_step = 0\n",
    "    # Now train sequentially\n",
    "    for task_idx, task in enumerate(seq):\n",
    "        train_loader, test_loader = dataloaders[task]\n",
    "        n_classes = 10 if task==\"CIFAR10\" else 100\n",
    "\n",
    "        # If model.fc size != n_classes, replace final layer (fine-tune last layer)\n",
    "        if model.fc.out_features != n_classes:\n",
    "            in_features = model.fc.in_features\n",
    "            model.fc = nn.Linear(in_features, n_classes).to(device)\n",
    "            # note: reinit new layer's params (keeps other weights)\n",
    "        wandb.log({f\"task_started\": task, \"task_index\": task_idx}, step=global_step)\n",
    "        for epoch in range(1, epochs_per_task+1):\n",
    "            model.train()\n",
    "            epoch_losses = []\n",
    "            correct = 0\n",
    "            total = 0\n",
    "            for xb, yb in train_loader:\n",
    "                xb = xb.to(device)\n",
    "                yb = yb.to(device)\n",
    "                optimizer.zero_grad()\n",
    "                out = model(xb)\n",
    "                loss = criterion(out, yb)\n",
    "                loss.backward()\n",
    "                optimizer.step()\n",
    "                epoch_losses.append(loss.item())\n",
    "                _, p = out.max(1)\n",
    "                correct += (p==yb).sum().item()\n",
    "                total += yb.size(0)\n",
    "                global_step += 1\n",
    "            scheduler.step()\n",
    "\n",
    "            train_loss = float(np.mean(epoch_losses))\n",
    "            train_acc = correct/total\n",
    "            val_loss, val_acc, val_preds, val_targets = evaluate(model, test_loader, device)\n",
    "\n",
    "            # Log to W&B\n",
    "            wandb.log({\n",
    "                f\"{task}/train_loss\": train_loss,\n",
    "                f\"{task}/train_acc\": train_acc,\n",
    "                f\"{task}/val_loss\": val_loss,\n",
    "                f\"{task}/val_acc\": val_acc,\n",
    "                \"epoch\": epoch,\n",
    "            }, step=global_step)\n",
    "\n",
    "            # Periodic confusion matrix (less frequent to save bandwidth)\n",
    "            if epoch % 25 == 0 or epoch == epochs_per_task:\n",
    "                class_labels = [str(i) for i in range(n_classes)]\n",
    "                log_confusion_matrix(val_targets, val_preds, class_labels, step=global_step, prefix=f\"{task}/\")\n",
    "\n",
    "        # After finishing this task, evaluate performance on all tasks (measure forgetting)\n",
    "        for other in seq:\n",
    "            loss_o, acc_o, _, _ = eval_on_dataset(model, other)\n",
    "            wandb.log({f\"after_{task}/{other}_loss\": loss_o, f\"after_{task}/{other}_acc\": acc_o}, step=global_step)\n",
    "            performance[f\"after_{task}_{other}\"] = (loss_o, acc_o)\n",
    "\n",
    "        # Save model artifact snapshot\n",
    "        artifact = wandb.Artifact(f\"{run_name}_after_{task}\", type=\"model\")\n",
    "        model_file = f\"model_{run_name}_after_{task}.pth\"\n",
    "        torch.save(model.state_dict(), model_file)\n",
    "        artifact.add_file(model_file)\n",
    "        wandb.log_artifact(artifact)\n",
    "\n",
    "    # Final evaluations and summary\n",
    "    for name in seq:\n",
    "        loss, acc, _, _ = eval_on_dataset(model, name)\n",
    "        wandb.log({f\"final/{name}_loss\": loss, f\"final/{name}_acc\": acc}, step=global_step)\n",
    "        performance[f\"final_{name}\"] = (loss, acc)\n",
    "\n",
    "    wandb.finish()\n",
    "    return performance\n",
    "\n",
    "# Cell 8 — Run both experiments sequentially in the notebook (this will take time — 200 epochs per experiment total)\n",
    "# If you want to run them in separate Colab sessions / sequentially, comment/uncomment as needed.\n",
    "\n",
    "# EXPERIMENT A: CIFAR100 -> CIFAR10\n",
    "perf_A = run_sequential_experiment([\"CIFAR100\", \"CIFAR10\"], base_seed=42, epochs_per_task=100, batch_size=256, lr=0.05)\n",
    "\n",
    "# EXPERIMENT B: CIFAR10 -> CIFAR100\n",
    "perf_B = run_sequential_experiment([\"CIFAR10\", \"CIFAR100\"], base_seed=42, epochs_per_task=100, batch_size=256, lr=0.05)\n",
    "\n",
    "# Save performance summaries to disk for quick inspection\n",
    "import json\n",
    "with open(\"perf_A.json\",\"w\") as f:\n",
    "    json.dump(perf_A, f)\n",
    "with open(\"perf_B.json\",\"w\") as f:\n",
    "    json.dump(perf_B, f)\n",
    "\n",
    "print(\"Experiments finished. Check W&B project: cifar-sequential-wandb\")\n"
   ]
  }
 ],
 "metadata": {
  "accelerator": "GPU",
  "colab": {
   "gpuType": "T4",
   "provenance": []
  },
  "kernelspec": {
   "display_name": "Python 3 (ipykernel)",
   "language": "python",
   "name": "python3"
  },
  "language_info": {
   "codemirror_mode": {
    "name": "ipython",
    "version": 3
   },
   "file_extension": ".py",
   "mimetype": "text/x-python",
   "name": "python",
   "nbconvert_exporter": "python",
   "pygments_lexer": "ipython3",
   "version": "3.10.12"
  },
  "widgets": {
   "application/vnd.jupyter.widget-state+json": {
    "0360d964a2d84ebeb744f948a6c211f0": {
     "model_module": "@jupyter-widgets/controls",
     "model_module_version": "1.5.0",
     "model_name": "HTMLModel",
     "state": {
      "_dom_classes": [],
      "_model_module": "@jupyter-widgets/controls",
      "_model_module_version": "1.5.0",
      "_model_name": "HTMLModel",
      "_view_count": null,
      "_view_module": "@jupyter-widgets/controls",
      "_view_module_version": "1.5.0",
      "_view_name": "HTMLView",
      "description": "",
      "description_tooltip": null,
      "layout": "IPY_MODEL_83c0dee5e34347b5ba29f7f6f7dd0df2",
      "placeholder": "​",
      "style": "IPY_MODEL_182a831ddd854456a0b942b7644f0f5b",
      "value": " 312k/312k [00:00&lt;00:00, 9.06MB/s]"
     }
    },
    "036e4a12847141cea6a8039ff1f5e48e": {
     "model_module": "@jupyter-widgets/base",
     "model_module_version": "1.2.0",
     "model_name": "LayoutModel",
     "state": {
      "_model_module": "@jupyter-widgets/base",
      "_model_module_version": "1.2.0",
      "_model_name": "LayoutModel",
      "_view_count": null,
      "_view_module": "@jupyter-widgets/base",
      "_view_module_version": "1.2.0",
      "_view_name": "LayoutView",
      "align_content": null,
      "align_items": null,
      "align_self": null,
      "border": null,
      "bottom": null,
      "display": null,
      "flex": null,
      "flex_flow": null,
      "grid_area": null,
      "grid_auto_columns": null,
      "grid_auto_flow": null,
      "grid_auto_rows": null,
      "grid_column": null,
      "grid_gap": null,
      "grid_row": null,
      "grid_template_areas": null,
      "grid_template_columns": null,
      "grid_template_rows": null,
      "height": null,
      "justify_content": null,
      "justify_items": null,
      "left": null,
      "margin": null,
      "max_height": null,
      "max_width": null,
      "min_height": null,
      "min_width": null,
      "object_fit": null,
      "object_position": null,
      "order": null,
      "overflow": null,
      "overflow_x": null,
      "overflow_y": null,
      "padding": null,
      "right": null,
      "top": null,
      "visibility": null,
      "width": null
     }
    },
    "0688b1de7eb5448e938558b71fa00480": {
     "model_module": "@jupyter-widgets/controls",
     "model_module_version": "1.5.0",
     "model_name": "FloatProgressModel",
     "state": {
      "_dom_classes": [],
      "_model_module": "@jupyter-widgets/controls",
      "_model_module_version": "1.5.0",
      "_model_name": "FloatProgressModel",
      "_view_count": null,
      "_view_module": "@jupyter-widgets/controls",
      "_view_module_version": "1.5.0",
      "_view_name": "ProgressView",
      "bar_style": "success",
      "description": "",
      "description_tooltip": null,
      "layout": "IPY_MODEL_3a9967974a164b2db339847bc1d2e76b",
      "max": 1,
      "min": 0,
      "orientation": "horizontal",
      "style": "IPY_MODEL_7f61fcf5d4744651b81ca153a479689c",
      "value": 1
     }
    },
    "0856902e2a5240e58ffd90522417f2f5": {
     "model_module": "@jupyter-widgets/controls",
     "model_module_version": "1.5.0",
     "model_name": "DescriptionStyleModel",
     "state": {
      "_model_module": "@jupyter-widgets/controls",
      "_model_module_version": "1.5.0",
      "_model_name": "DescriptionStyleModel",
      "_view_count": null,
      "_view_module": "@jupyter-widgets/base",
      "_view_module_version": "1.2.0",
      "_view_name": "StyleView",
      "description_width": ""
     }
    },
    "0897722d978440b9b0e93f4cb1de796a": {
     "model_module": "@jupyter-widgets/controls",
     "model_module_version": "1.5.0",
     "model_name": "DescriptionStyleModel",
     "state": {
      "_model_module": "@jupyter-widgets/controls",
      "_model_module_version": "1.5.0",
      "_model_name": "DescriptionStyleModel",
      "_view_count": null,
      "_view_module": "@jupyter-widgets/base",
      "_view_module_version": "1.2.0",
      "_view_name": "StyleView",
      "description_width": ""
     }
    },
    "09d6eff845cc4b38af908128d2f73780": {
     "model_module": "@jupyter-widgets/base",
     "model_module_version": "1.2.0",
     "model_name": "LayoutModel",
     "state": {
      "_model_module": "@jupyter-widgets/base",
      "_model_module_version": "1.2.0",
      "_model_name": "LayoutModel",
      "_view_count": null,
      "_view_module": "@jupyter-widgets/base",
      "_view_module_version": "1.2.0",
      "_view_name": "LayoutView",
      "align_content": null,
      "align_items": null,
      "align_self": null,
      "border": null,
      "bottom": null,
      "display": null,
      "flex": null,
      "flex_flow": null,
      "grid_area": null,
      "grid_auto_columns": null,
      "grid_auto_flow": null,
      "grid_auto_rows": null,
      "grid_column": null,
      "grid_gap": null,
      "grid_row": null,
      "grid_template_areas": null,
      "grid_template_columns": null,
      "grid_template_rows": null,
      "height": null,
      "justify_content": null,
      "justify_items": null,
      "left": null,
      "margin": null,
      "max_height": null,
      "max_width": null,
      "min_height": null,
      "min_width": null,
      "object_fit": null,
      "object_position": null,
      "order": null,
      "overflow": null,
      "overflow_x": null,
      "overflow_y": null,
      "padding": null,
      "right": null,
      "top": null,
      "visibility": null,
      "width": null
     }
    },
    "121f306b661d44fd8fe6fc2a23ccf23e": {
     "model_module": "@jupyter-widgets/base",
     "model_module_version": "1.2.0",
     "model_name": "LayoutModel",
     "state": {
      "_model_module": "@jupyter-widgets/base",
      "_model_module_version": "1.2.0",
      "_model_name": "LayoutModel",
      "_view_count": null,
      "_view_module": "@jupyter-widgets/base",
      "_view_module_version": "1.2.0",
      "_view_name": "LayoutView",
      "align_content": null,
      "align_items": null,
      "align_self": null,
      "border": null,
      "bottom": null,
      "display": null,
      "flex": null,
      "flex_flow": null,
      "grid_area": null,
      "grid_auto_columns": null,
      "grid_auto_flow": null,
      "grid_auto_rows": null,
      "grid_column": null,
      "grid_gap": null,
      "grid_row": null,
      "grid_template_areas": null,
      "grid_template_columns": null,
      "grid_template_rows": null,
      "height": null,
      "justify_content": null,
      "justify_items": null,
      "left": null,
      "margin": null,
      "max_height": null,
      "max_width": null,
      "min_height": null,
      "min_width": null,
      "object_fit": null,
      "object_position": null,
      "order": null,
      "overflow": null,
      "overflow_x": null,
      "overflow_y": null,
      "padding": null,
      "right": null,
      "top": null,
      "visibility": null,
      "width": null
     }
    },
    "17ce8249a1ee49c1b90e15f78bc64bc7": {
     "model_module": "@jupyter-widgets/base",
     "model_module_version": "1.2.0",
     "model_name": "LayoutModel",
     "state": {
      "_model_module": "@jupyter-widgets/base",
      "_model_module_version": "1.2.0",
      "_model_name": "LayoutModel",
      "_view_count": null,
      "_view_module": "@jupyter-widgets/base",
      "_view_module_version": "1.2.0",
      "_view_name": "LayoutView",
      "align_content": null,
      "align_items": null,
      "align_self": null,
      "border": null,
      "bottom": null,
      "display": null,
      "flex": null,
      "flex_flow": null,
      "grid_area": null,
      "grid_auto_columns": null,
      "grid_auto_flow": null,
      "grid_auto_rows": null,
      "grid_column": null,
      "grid_gap": null,
      "grid_row": null,
      "grid_template_areas": null,
      "grid_template_columns": null,
      "grid_template_rows": null,
      "height": null,
      "justify_content": null,
      "justify_items": null,
      "left": null,
      "margin": null,
      "max_height": null,
      "max_width": null,
      "min_height": null,
      "min_width": null,
      "object_fit": null,
      "object_position": null,
      "order": null,
      "overflow": null,
      "overflow_x": null,
      "overflow_y": null,
      "padding": null,
      "right": null,
      "top": null,
      "visibility": null,
      "width": "20px"
     }
    },
    "182a831ddd854456a0b942b7644f0f5b": {
     "model_module": "@jupyter-widgets/controls",
     "model_module_version": "1.5.0",
     "model_name": "DescriptionStyleModel",
     "state": {
      "_model_module": "@jupyter-widgets/controls",
      "_model_module_version": "1.5.0",
      "_model_name": "DescriptionStyleModel",
      "_view_count": null,
      "_view_module": "@jupyter-widgets/base",
      "_view_module_version": "1.2.0",
      "_view_name": "StyleView",
      "description_width": ""
     }
    },
    "19bb22137fce4d04a13c97132881f220": {
     "model_module": "@jupyter-widgets/controls",
     "model_module_version": "1.5.0",
     "model_name": "HBoxModel",
     "state": {
      "_dom_classes": [],
      "_model_module": "@jupyter-widgets/controls",
      "_model_module_version": "1.5.0",
      "_model_name": "HBoxModel",
      "_view_count": null,
      "_view_module": "@jupyter-widgets/controls",
      "_view_module_version": "1.5.0",
      "_view_name": "HBoxView",
      "box_style": "",
      "children": [
       "IPY_MODEL_3c24ddcecda7414a82c56d4136e18fc6",
       "IPY_MODEL_0688b1de7eb5448e938558b71fa00480",
       "IPY_MODEL_faf4e40f41d04477b67c7af08c1022da"
      ],
      "layout": "IPY_MODEL_836510f7c6ea42ebb55c06a12d6de861"
     }
    },
    "1ecf5ad306ff446ba7b3e0b83bc1d8cd": {
     "model_module": "@jupyter-widgets/base",
     "model_module_version": "1.2.0",
     "model_name": "LayoutModel",
     "state": {
      "_model_module": "@jupyter-widgets/base",
      "_model_module_version": "1.2.0",
      "_model_name": "LayoutModel",
      "_view_count": null,
      "_view_module": "@jupyter-widgets/base",
      "_view_module_version": "1.2.0",
      "_view_name": "LayoutView",
      "align_content": null,
      "align_items": null,
      "align_self": null,
      "border": null,
      "bottom": null,
      "display": null,
      "flex": null,
      "flex_flow": null,
      "grid_area": null,
      "grid_auto_columns": null,
      "grid_auto_flow": null,
      "grid_auto_rows": null,
      "grid_column": null,
      "grid_gap": null,
      "grid_row": null,
      "grid_template_areas": null,
      "grid_template_columns": null,
      "grid_template_rows": null,
      "height": null,
      "justify_content": null,
      "justify_items": null,
      "left": null,
      "margin": null,
      "max_height": null,
      "max_width": null,
      "min_height": null,
      "min_width": null,
      "object_fit": null,
      "object_position": null,
      "order": null,
      "overflow": null,
      "overflow_x": null,
      "overflow_y": null,
      "padding": null,
      "right": null,
      "top": null,
      "visibility": null,
      "width": null
     }
    },
    "2897dce1d9384c3fbe0307cab885b869": {
     "model_module": "@jupyter-widgets/controls",
     "model_module_version": "1.5.0",
     "model_name": "FloatProgressModel",
     "state": {
      "_dom_classes": [],
      "_model_module": "@jupyter-widgets/controls",
      "_model_module_version": "1.5.0",
      "_model_name": "FloatProgressModel",
      "_view_count": null,
      "_view_module": "@jupyter-widgets/controls",
      "_view_module_version": "1.5.0",
      "_view_name": "ProgressView",
      "bar_style": "success",
      "description": "",
      "description_tooltip": null,
      "layout": "IPY_MODEL_cfa69c867d1b4ae592db3296fe36a3cd",
      "max": 1,
      "min": 0,
      "orientation": "horizontal",
      "style": "IPY_MODEL_458187f44e9e4b8296c5c89852da349a",
      "value": 1
     }
    },
    "2d81f9a425464442aa5c89c02aedbae8": {
     "model_module": "@jupyter-widgets/controls",
     "model_module_version": "1.5.0",
     "model_name": "DescriptionStyleModel",
     "state": {
      "_model_module": "@jupyter-widgets/controls",
      "_model_module_version": "1.5.0",
      "_model_name": "DescriptionStyleModel",
      "_view_count": null,
      "_view_module": "@jupyter-widgets/base",
      "_view_module_version": "1.2.0",
      "_view_name": "StyleView",
      "description_width": ""
     }
    },
    "3a9967974a164b2db339847bc1d2e76b": {
     "model_module": "@jupyter-widgets/base",
     "model_module_version": "1.2.0",
     "model_name": "LayoutModel",
     "state": {
      "_model_module": "@jupyter-widgets/base",
      "_model_module_version": "1.2.0",
      "_model_name": "LayoutModel",
      "_view_count": null,
      "_view_module": "@jupyter-widgets/base",
      "_view_module_version": "1.2.0",
      "_view_name": "LayoutView",
      "align_content": null,
      "align_items": null,
      "align_self": null,
      "border": null,
      "bottom": null,
      "display": null,
      "flex": null,
      "flex_flow": null,
      "grid_area": null,
      "grid_auto_columns": null,
      "grid_auto_flow": null,
      "grid_auto_rows": null,
      "grid_column": null,
      "grid_gap": null,
      "grid_row": null,
      "grid_template_areas": null,
      "grid_template_columns": null,
      "grid_template_rows": null,
      "height": null,
      "justify_content": null,
      "justify_items": null,
      "left": null,
      "margin": null,
      "max_height": null,
      "max_width": null,
      "min_height": null,
      "min_width": null,
      "object_fit": null,
      "object_position": null,
      "order": null,
      "overflow": null,
      "overflow_x": null,
      "overflow_y": null,
      "padding": null,
      "right": null,
      "top": null,
      "visibility": null,
      "width": "20px"
     }
    },
    "3beb48e5c8bb4b0f9da9b88c4badacfa": {
     "model_module": "@jupyter-widgets/controls",
     "model_module_version": "1.5.0",
     "model_name": "HBoxModel",
     "state": {
      "_dom_classes": [],
      "_model_module": "@jupyter-widgets/controls",
      "_model_module_version": "1.5.0",
      "_model_name": "HBoxModel",
      "_view_count": null,
      "_view_module": "@jupyter-widgets/controls",
      "_view_module_version": "1.5.0",
      "_view_name": "HBoxView",
      "box_style": "",
      "children": [
       "IPY_MODEL_baf4770abffa4ac69f3335446e7c921a",
       "IPY_MODEL_2897dce1d9384c3fbe0307cab885b869",
       "IPY_MODEL_6c75740eef4346babc77a71c063fa3cc"
      ],
      "layout": "IPY_MODEL_b0790a4ea7114d3da6017a31acb60cdc"
     }
    },
    "3c24ddcecda7414a82c56d4136e18fc6": {
     "model_module": "@jupyter-widgets/controls",
     "model_module_version": "1.5.0",
     "model_name": "HTMLModel",
     "state": {
      "_dom_classes": [],
      "_model_module": "@jupyter-widgets/controls",
      "_model_module_version": "1.5.0",
      "_model_name": "HTMLModel",
      "_view_count": null,
      "_view_module": "@jupyter-widgets/controls",
      "_view_module_version": "1.5.0",
      "_view_name": "HTMLView",
      "description": "",
      "description_tooltip": null,
      "layout": "IPY_MODEL_09d6eff845cc4b38af908128d2f73780",
      "placeholder": "​",
      "style": "IPY_MODEL_9c48cc10fe784db391fb50cb98925f07",
      "value": "Generating test split: "
     }
    },
    "3ed9f01036384b689dfad28f69849233": {
     "model_module": "@jupyter-widgets/base",
     "model_module_version": "1.2.0",
     "model_name": "LayoutModel",
     "state": {
      "_model_module": "@jupyter-widgets/base",
      "_model_module_version": "1.2.0",
      "_model_name": "LayoutModel",
      "_view_count": null,
      "_view_module": "@jupyter-widgets/base",
      "_view_module_version": "1.2.0",
      "_view_name": "LayoutView",
      "align_content": null,
      "align_items": null,
      "align_self": null,
      "border": null,
      "bottom": null,
      "display": null,
      "flex": null,
      "flex_flow": null,
      "grid_area": null,
      "grid_auto_columns": null,
      "grid_auto_flow": null,
      "grid_auto_rows": null,
      "grid_column": null,
      "grid_gap": null,
      "grid_row": null,
      "grid_template_areas": null,
      "grid_template_columns": null,
      "grid_template_rows": null,
      "height": null,
      "justify_content": null,
      "justify_items": null,
      "left": null,
      "margin": null,
      "max_height": null,
      "max_width": null,
      "min_height": null,
      "min_width": null,
      "object_fit": null,
      "object_position": null,
      "order": null,
      "overflow": null,
      "overflow_x": null,
      "overflow_y": null,
      "padding": null,
      "right": null,
      "top": null,
      "visibility": null,
      "width": null
     }
    },
    "415ffcd6fe694680a75e04052a8c9a87": {
     "model_module": "@jupyter-widgets/base",
     "model_module_version": "1.2.0",
     "model_name": "LayoutModel",
     "state": {
      "_model_module": "@jupyter-widgets/base",
      "_model_module_version": "1.2.0",
      "_model_name": "LayoutModel",
      "_view_count": null,
      "_view_module": "@jupyter-widgets/base",
      "_view_module_version": "1.2.0",
      "_view_name": "LayoutView",
      "align_content": null,
      "align_items": null,
      "align_self": null,
      "border": null,
      "bottom": null,
      "display": null,
      "flex": null,
      "flex_flow": null,
      "grid_area": null,
      "grid_auto_columns": null,
      "grid_auto_flow": null,
      "grid_auto_rows": null,
      "grid_column": null,
      "grid_gap": null,
      "grid_row": null,
      "grid_template_areas": null,
      "grid_template_columns": null,
      "grid_template_rows": null,
      "height": null,
      "justify_content": null,
      "justify_items": null,
      "left": null,
      "margin": null,
      "max_height": null,
      "max_width": null,
      "min_height": null,
      "min_width": null,
      "object_fit": null,
      "object_position": null,
      "order": null,
      "overflow": null,
      "overflow_x": null,
      "overflow_y": null,
      "padding": null,
      "right": null,
      "top": null,
      "visibility": null,
      "width": null
     }
    },
    "419db0b284d14265a81a778c41151c9d": {
     "model_module": "@jupyter-widgets/controls",
     "model_module_version": "1.5.0",
     "model_name": "ProgressStyleModel",
     "state": {
      "_model_module": "@jupyter-widgets/controls",
      "_model_module_version": "1.5.0",
      "_model_name": "ProgressStyleModel",
      "_view_count": null,
      "_view_module": "@jupyter-widgets/base",
      "_view_module_version": "1.2.0",
      "_view_name": "StyleView",
      "bar_color": null,
      "description_width": ""
     }
    },
    "458187f44e9e4b8296c5c89852da349a": {
     "model_module": "@jupyter-widgets/controls",
     "model_module_version": "1.5.0",
     "model_name": "ProgressStyleModel",
     "state": {
      "_model_module": "@jupyter-widgets/controls",
      "_model_module_version": "1.5.0",
      "_model_name": "ProgressStyleModel",
      "_view_count": null,
      "_view_module": "@jupyter-widgets/base",
      "_view_module_version": "1.2.0",
      "_view_name": "StyleView",
      "bar_color": null,
      "description_width": ""
     }
    },
    "467288b2af9e438aa2ecd4a9f5b8c4b2": {
     "model_module": "@jupyter-widgets/controls",
     "model_module_version": "1.5.0",
     "model_name": "ProgressStyleModel",
     "state": {
      "_model_module": "@jupyter-widgets/controls",
      "_model_module_version": "1.5.0",
      "_model_name": "ProgressStyleModel",
      "_view_count": null,
      "_view_module": "@jupyter-widgets/base",
      "_view_module_version": "1.2.0",
      "_view_name": "StyleView",
      "bar_color": null,
      "description_width": ""
     }
    },
    "4ccd910dbb83440399d88e9f2b155fc1": {
     "model_module": "@jupyter-widgets/base",
     "model_module_version": "1.2.0",
     "model_name": "LayoutModel",
     "state": {
      "_model_module": "@jupyter-widgets/base",
      "_model_module_version": "1.2.0",
      "_model_name": "LayoutModel",
      "_view_count": null,
      "_view_module": "@jupyter-widgets/base",
      "_view_module_version": "1.2.0",
      "_view_name": "LayoutView",
      "align_content": null,
      "align_items": null,
      "align_self": null,
      "border": null,
      "bottom": null,
      "display": null,
      "flex": null,
      "flex_flow": null,
      "grid_area": null,
      "grid_auto_columns": null,
      "grid_auto_flow": null,
      "grid_auto_rows": null,
      "grid_column": null,
      "grid_gap": null,
      "grid_row": null,
      "grid_template_areas": null,
      "grid_template_columns": null,
      "grid_template_rows": null,
      "height": null,
      "justify_content": null,
      "justify_items": null,
      "left": null,
      "margin": null,
      "max_height": null,
      "max_width": null,
      "min_height": null,
      "min_width": null,
      "object_fit": null,
      "object_position": null,
      "order": null,
      "overflow": null,
      "overflow_x": null,
      "overflow_y": null,
      "padding": null,
      "right": null,
      "top": null,
      "visibility": null,
      "width": null
     }
    },
    "4f0b462756a5449db1b065574f5bb45f": {
     "model_module": "@jupyter-widgets/base",
     "model_module_version": "1.2.0",
     "model_name": "LayoutModel",
     "state": {
      "_model_module": "@jupyter-widgets/base",
      "_model_module_version": "1.2.0",
      "_model_name": "LayoutModel",
      "_view_count": null,
      "_view_module": "@jupyter-widgets/base",
      "_view_module_version": "1.2.0",
      "_view_name": "LayoutView",
      "align_content": null,
      "align_items": null,
      "align_self": null,
      "border": null,
      "bottom": null,
      "display": null,
      "flex": null,
      "flex_flow": null,
      "grid_area": null,
      "grid_auto_columns": null,
      "grid_auto_flow": null,
      "grid_auto_rows": null,
      "grid_column": null,
      "grid_gap": null,
      "grid_row": null,
      "grid_template_areas": null,
      "grid_template_columns": null,
      "grid_template_rows": null,
      "height": null,
      "justify_content": null,
      "justify_items": null,
      "left": null,
      "margin": null,
      "max_height": null,
      "max_width": null,
      "min_height": null,
      "min_width": null,
      "object_fit": null,
      "object_position": null,
      "order": null,
      "overflow": null,
      "overflow_x": null,
      "overflow_y": null,
      "padding": null,
      "right": null,
      "top": null,
      "visibility": null,
      "width": null
     }
    },
    "5324a068948449d59c13066a990c49b2": {
     "model_module": "@jupyter-widgets/controls",
     "model_module_version": "1.5.0",
     "model_name": "HTMLModel",
     "state": {
      "_dom_classes": [],
      "_model_module": "@jupyter-widgets/controls",
      "_model_module_version": "1.5.0",
      "_model_name": "HTMLModel",
      "_view_count": null,
      "_view_module": "@jupyter-widgets/controls",
      "_view_module_version": "1.5.0",
      "_view_name": "HTMLView",
      "description": "",
      "description_tooltip": null,
      "layout": "IPY_MODEL_a0d7ddad738843e4bb082e353ca58419",
      "placeholder": "​",
      "style": "IPY_MODEL_0897722d978440b9b0e93f4cb1de796a",
      "value": " 1.23M/1.23M [00:00&lt;00:00, 78.8kB/s]"
     }
    },
    "5ec3174be7514aa98354494ff92f40ad": {
     "model_module": "@jupyter-widgets/controls",
     "model_module_version": "1.5.0",
     "model_name": "HBoxModel",
     "state": {
      "_dom_classes": [],
      "_model_module": "@jupyter-widgets/controls",
      "_model_module_version": "1.5.0",
      "_model_name": "HBoxModel",
      "_view_count": null,
      "_view_module": "@jupyter-widgets/controls",
      "_view_module_version": "1.5.0",
      "_view_name": "HBoxView",
      "box_style": "",
      "children": [
       "IPY_MODEL_840a381e173045fc964f42dfaa87c1d6",
       "IPY_MODEL_a2893cefad05450cb76607d068a49d9c",
       "IPY_MODEL_f1b127ad84e14197ad7952c56bf3686d"
      ],
      "layout": "IPY_MODEL_4f0b462756a5449db1b065574f5bb45f"
     }
    },
    "670675ca5fa94f409ccdfc16f7ec0c3d": {
     "model_module": "@jupyter-widgets/controls",
     "model_module_version": "1.5.0",
     "model_name": "FloatProgressModel",
     "state": {
      "_dom_classes": [],
      "_model_module": "@jupyter-widgets/controls",
      "_model_module_version": "1.5.0",
      "_model_name": "FloatProgressModel",
      "_view_count": null,
      "_view_module": "@jupyter-widgets/controls",
      "_view_module_version": "1.5.0",
      "_view_name": "ProgressView",
      "bar_style": "success",
      "description": "",
      "description_tooltip": null,
      "layout": "IPY_MODEL_17ce8249a1ee49c1b90e15f78bc64bc7",
      "max": 1,
      "min": 0,
      "orientation": "horizontal",
      "style": "IPY_MODEL_76f1669893084efe979d5417b0967a3c",
      "value": 1
     }
    },
    "6a12a927240245bdb538bfdb3de0f64c": {
     "model_module": "@jupyter-widgets/controls",
     "model_module_version": "1.5.0",
     "model_name": "DescriptionStyleModel",
     "state": {
      "_model_module": "@jupyter-widgets/controls",
      "_model_module_version": "1.5.0",
      "_model_name": "DescriptionStyleModel",
      "_view_count": null,
      "_view_module": "@jupyter-widgets/base",
      "_view_module_version": "1.2.0",
      "_view_name": "StyleView",
      "description_width": ""
     }
    },
    "6c75740eef4346babc77a71c063fa3cc": {
     "model_module": "@jupyter-widgets/controls",
     "model_module_version": "1.5.0",
     "model_name": "HTMLModel",
     "state": {
      "_dom_classes": [],
      "_model_module": "@jupyter-widgets/controls",
      "_model_module_version": "1.5.0",
      "_model_name": "HTMLModel",
      "_view_count": null,
      "_view_module": "@jupyter-widgets/controls",
      "_view_module_version": "1.5.0",
      "_view_name": "HTMLView",
      "description": "",
      "description_tooltip": null,
      "layout": "IPY_MODEL_a324d9b300994d2d8eda1b948db31a5f",
      "placeholder": "​",
      "style": "IPY_MODEL_6a12a927240245bdb538bfdb3de0f64c",
      "value": " 3250/0 [00:00&lt;00:00, 99095.57 examples/s]"
     }
    },
    "6c97605eee7a4f8cb32370d74667e735": {
     "model_module": "@jupyter-widgets/controls",
     "model_module_version": "1.5.0",
     "model_name": "DescriptionStyleModel",
     "state": {
      "_model_module": "@jupyter-widgets/controls",
      "_model_module_version": "1.5.0",
      "_model_name": "DescriptionStyleModel",
      "_view_count": null,
      "_view_module": "@jupyter-widgets/base",
      "_view_module_version": "1.2.0",
      "_view_name": "StyleView",
      "description_width": ""
     }
    },
    "76f1669893084efe979d5417b0967a3c": {
     "model_module": "@jupyter-widgets/controls",
     "model_module_version": "1.5.0",
     "model_name": "ProgressStyleModel",
     "state": {
      "_model_module": "@jupyter-widgets/controls",
      "_model_module_version": "1.5.0",
      "_model_name": "ProgressStyleModel",
      "_view_count": null,
      "_view_module": "@jupyter-widgets/base",
      "_view_module_version": "1.2.0",
      "_view_name": "StyleView",
      "bar_color": null,
      "description_width": ""
     }
    },
    "7af52c9002dc406fb00be7a3a209c1eb": {
     "model_module": "@jupyter-widgets/base",
     "model_module_version": "1.2.0",
     "model_name": "LayoutModel",
     "state": {
      "_model_module": "@jupyter-widgets/base",
      "_model_module_version": "1.2.0",
      "_model_name": "LayoutModel",
      "_view_count": null,
      "_view_module": "@jupyter-widgets/base",
      "_view_module_version": "1.2.0",
      "_view_name": "LayoutView",
      "align_content": null,
      "align_items": null,
      "align_self": null,
      "border": null,
      "bottom": null,
      "display": null,
      "flex": null,
      "flex_flow": null,
      "grid_area": null,
      "grid_auto_columns": null,
      "grid_auto_flow": null,
      "grid_auto_rows": null,
      "grid_column": null,
      "grid_gap": null,
      "grid_row": null,
      "grid_template_areas": null,
      "grid_template_columns": null,
      "grid_template_rows": null,
      "height": null,
      "justify_content": null,
      "justify_items": null,
      "left": null,
      "margin": null,
      "max_height": null,
      "max_width": null,
      "min_height": null,
      "min_width": null,
      "object_fit": null,
      "object_position": null,
      "order": null,
      "overflow": null,
      "overflow_x": null,
      "overflow_y": null,
      "padding": null,
      "right": null,
      "top": null,
      "visibility": null,
      "width": null
     }
    },
    "7e73605980af4707928e4327167b4a35": {
     "model_module": "@jupyter-widgets/base",
     "model_module_version": "1.2.0",
     "model_name": "LayoutModel",
     "state": {
      "_model_module": "@jupyter-widgets/base",
      "_model_module_version": "1.2.0",
      "_model_name": "LayoutModel",
      "_view_count": null,
      "_view_module": "@jupyter-widgets/base",
      "_view_module_version": "1.2.0",
      "_view_name": "LayoutView",
      "align_content": null,
      "align_items": null,
      "align_self": null,
      "border": null,
      "bottom": null,
      "display": null,
      "flex": null,
      "flex_flow": null,
      "grid_area": null,
      "grid_auto_columns": null,
      "grid_auto_flow": null,
      "grid_auto_rows": null,
      "grid_column": null,
      "grid_gap": null,
      "grid_row": null,
      "grid_template_areas": null,
      "grid_template_columns": null,
      "grid_template_rows": null,
      "height": null,
      "justify_content": null,
      "justify_items": null,
      "left": null,
      "margin": null,
      "max_height": null,
      "max_width": null,
      "min_height": null,
      "min_width": null,
      "object_fit": null,
      "object_position": null,
      "order": null,
      "overflow": null,
      "overflow_x": null,
      "overflow_y": null,
      "padding": null,
      "right": null,
      "top": null,
      "visibility": null,
      "width": null
     }
    },
    "7f61fcf5d4744651b81ca153a479689c": {
     "model_module": "@jupyter-widgets/controls",
     "model_module_version": "1.5.0",
     "model_name": "ProgressStyleModel",
     "state": {
      "_model_module": "@jupyter-widgets/controls",
      "_model_module_version": "1.5.0",
      "_model_name": "ProgressStyleModel",
      "_view_count": null,
      "_view_module": "@jupyter-widgets/base",
      "_view_module_version": "1.2.0",
      "_view_name": "StyleView",
      "bar_color": null,
      "description_width": ""
     }
    },
    "7fe033a7fdde494db73d7266f587b135": {
     "model_module": "@jupyter-widgets/base",
     "model_module_version": "1.2.0",
     "model_name": "LayoutModel",
     "state": {
      "_model_module": "@jupyter-widgets/base",
      "_model_module_version": "1.2.0",
      "_model_name": "LayoutModel",
      "_view_count": null,
      "_view_module": "@jupyter-widgets/base",
      "_view_module_version": "1.2.0",
      "_view_name": "LayoutView",
      "align_content": null,
      "align_items": null,
      "align_self": null,
      "border": null,
      "bottom": null,
      "display": null,
      "flex": null,
      "flex_flow": null,
      "grid_area": null,
      "grid_auto_columns": null,
      "grid_auto_flow": null,
      "grid_auto_rows": null,
      "grid_column": null,
      "grid_gap": null,
      "grid_row": null,
      "grid_template_areas": null,
      "grid_template_columns": null,
      "grid_template_rows": null,
      "height": null,
      "justify_content": null,
      "justify_items": null,
      "left": null,
      "margin": null,
      "max_height": null,
      "max_width": null,
      "min_height": null,
      "min_width": null,
      "object_fit": null,
      "object_position": null,
      "order": null,
      "overflow": null,
      "overflow_x": null,
      "overflow_y": null,
      "padding": null,
      "right": null,
      "top": null,
      "visibility": null,
      "width": null
     }
    },
    "820c96c6378c4f62bdecde13d7a1a6dd": {
     "model_module": "@jupyter-widgets/controls",
     "model_module_version": "1.5.0",
     "model_name": "DescriptionStyleModel",
     "state": {
      "_model_module": "@jupyter-widgets/controls",
      "_model_module_version": "1.5.0",
      "_model_name": "DescriptionStyleModel",
      "_view_count": null,
      "_view_module": "@jupyter-widgets/base",
      "_view_module_version": "1.2.0",
      "_view_name": "StyleView",
      "description_width": ""
     }
    },
    "836510f7c6ea42ebb55c06a12d6de861": {
     "model_module": "@jupyter-widgets/base",
     "model_module_version": "1.2.0",
     "model_name": "LayoutModel",
     "state": {
      "_model_module": "@jupyter-widgets/base",
      "_model_module_version": "1.2.0",
      "_model_name": "LayoutModel",
      "_view_count": null,
      "_view_module": "@jupyter-widgets/base",
      "_view_module_version": "1.2.0",
      "_view_name": "LayoutView",
      "align_content": null,
      "align_items": null,
      "align_self": null,
      "border": null,
      "bottom": null,
      "display": null,
      "flex": null,
      "flex_flow": null,
      "grid_area": null,
      "grid_auto_columns": null,
      "grid_auto_flow": null,
      "grid_auto_rows": null,
      "grid_column": null,
      "grid_gap": null,
      "grid_row": null,
      "grid_template_areas": null,
      "grid_template_columns": null,
      "grid_template_rows": null,
      "height": null,
      "justify_content": null,
      "justify_items": null,
      "left": null,
      "margin": null,
      "max_height": null,
      "max_width": null,
      "min_height": null,
      "min_width": null,
      "object_fit": null,
      "object_position": null,
      "order": null,
      "overflow": null,
      "overflow_x": null,
      "overflow_y": null,
      "padding": null,
      "right": null,
      "top": null,
      "visibility": null,
      "width": null
     }
    },
    "83c0dee5e34347b5ba29f7f6f7dd0df2": {
     "model_module": "@jupyter-widgets/base",
     "model_module_version": "1.2.0",
     "model_name": "LayoutModel",
     "state": {
      "_model_module": "@jupyter-widgets/base",
      "_model_module_version": "1.2.0",
      "_model_name": "LayoutModel",
      "_view_count": null,
      "_view_module": "@jupyter-widgets/base",
      "_view_module_version": "1.2.0",
      "_view_name": "LayoutView",
      "align_content": null,
      "align_items": null,
      "align_self": null,
      "border": null,
      "bottom": null,
      "display": null,
      "flex": null,
      "flex_flow": null,
      "grid_area": null,
      "grid_auto_columns": null,
      "grid_auto_flow": null,
      "grid_auto_rows": null,
      "grid_column": null,
      "grid_gap": null,
      "grid_row": null,
      "grid_template_areas": null,
      "grid_template_columns": null,
      "grid_template_rows": null,
      "height": null,
      "justify_content": null,
      "justify_items": null,
      "left": null,
      "margin": null,
      "max_height": null,
      "max_width": null,
      "min_height": null,
      "min_width": null,
      "object_fit": null,
      "object_position": null,
      "order": null,
      "overflow": null,
      "overflow_x": null,
      "overflow_y": null,
      "padding": null,
      "right": null,
      "top": null,
      "visibility": null,
      "width": null
     }
    },
    "840a381e173045fc964f42dfaa87c1d6": {
     "model_module": "@jupyter-widgets/controls",
     "model_module_version": "1.5.0",
     "model_name": "HTMLModel",
     "state": {
      "_dom_classes": [],
      "_model_module": "@jupyter-widgets/controls",
      "_model_module_version": "1.5.0",
      "_model_name": "HTMLModel",
      "_view_count": null,
      "_view_module": "@jupyter-widgets/controls",
      "_view_module_version": "1.5.0",
      "_view_name": "HTMLView",
      "description": "",
      "description_tooltip": null,
      "layout": "IPY_MODEL_7e73605980af4707928e4327167b4a35",
      "placeholder": "​",
      "style": "IPY_MODEL_6c97605eee7a4f8cb32370d74667e735",
      "value": "0000.parquet: 100%"
     }
    },
    "86685dfaa4894897956a2cf84a1562af": {
     "model_module": "@jupyter-widgets/controls",
     "model_module_version": "1.5.0",
     "model_name": "HTMLModel",
     "state": {
      "_dom_classes": [],
      "_model_module": "@jupyter-widgets/controls",
      "_model_module_version": "1.5.0",
      "_model_name": "HTMLModel",
      "_view_count": null,
      "_view_module": "@jupyter-widgets/controls",
      "_view_module_version": "1.5.0",
      "_view_name": "HTMLView",
      "description": "",
      "description_tooltip": null,
      "layout": "IPY_MODEL_121f306b661d44fd8fe6fc2a23ccf23e",
      "placeholder": "​",
      "style": "IPY_MODEL_bb37c4b079d844e389f7caf4da594d63",
      "value": "conll2003/train/0000.parquet: 100%"
     }
    },
    "88d5b64791d54d92992a0a1c2ec7dfe5": {
     "model_module": "@jupyter-widgets/controls",
     "model_module_version": "1.5.0",
     "model_name": "DescriptionStyleModel",
     "state": {
      "_model_module": "@jupyter-widgets/controls",
      "_model_module_version": "1.5.0",
      "_model_name": "DescriptionStyleModel",
      "_view_count": null,
      "_view_module": "@jupyter-widgets/base",
      "_view_module_version": "1.2.0",
      "_view_name": "StyleView",
      "description_width": ""
     }
    },
    "9c48cc10fe784db391fb50cb98925f07": {
     "model_module": "@jupyter-widgets/controls",
     "model_module_version": "1.5.0",
     "model_name": "DescriptionStyleModel",
     "state": {
      "_model_module": "@jupyter-widgets/controls",
      "_model_module_version": "1.5.0",
      "_model_name": "DescriptionStyleModel",
      "_view_count": null,
      "_view_module": "@jupyter-widgets/base",
      "_view_module_version": "1.2.0",
      "_view_name": "StyleView",
      "description_width": ""
     }
    },
    "9c77d1fd83f54321ab4c2d8d77219984": {
     "model_module": "@jupyter-widgets/controls",
     "model_module_version": "1.5.0",
     "model_name": "HBoxModel",
     "state": {
      "_dom_classes": [],
      "_model_module": "@jupyter-widgets/controls",
      "_model_module_version": "1.5.0",
      "_model_name": "HBoxModel",
      "_view_count": null,
      "_view_module": "@jupyter-widgets/controls",
      "_view_module_version": "1.5.0",
      "_view_name": "HBoxView",
      "box_style": "",
      "children": [
       "IPY_MODEL_e26d275f65f040d2a787a1ad8080ece4",
       "IPY_MODEL_670675ca5fa94f409ccdfc16f7ec0c3d",
       "IPY_MODEL_b11f6f7e9c2242eaaa910d2f84c76979"
      ],
      "layout": "IPY_MODEL_1ecf5ad306ff446ba7b3e0b83bc1d8cd"
     }
    },
    "a0d7ddad738843e4bb082e353ca58419": {
     "model_module": "@jupyter-widgets/base",
     "model_module_version": "1.2.0",
     "model_name": "LayoutModel",
     "state": {
      "_model_module": "@jupyter-widgets/base",
      "_model_module_version": "1.2.0",
      "_model_name": "LayoutModel",
      "_view_count": null,
      "_view_module": "@jupyter-widgets/base",
      "_view_module_version": "1.2.0",
      "_view_name": "LayoutView",
      "align_content": null,
      "align_items": null,
      "align_self": null,
      "border": null,
      "bottom": null,
      "display": null,
      "flex": null,
      "flex_flow": null,
      "grid_area": null,
      "grid_auto_columns": null,
      "grid_auto_flow": null,
      "grid_auto_rows": null,
      "grid_column": null,
      "grid_gap": null,
      "grid_row": null,
      "grid_template_areas": null,
      "grid_template_columns": null,
      "grid_template_rows": null,
      "height": null,
      "justify_content": null,
      "justify_items": null,
      "left": null,
      "margin": null,
      "max_height": null,
      "max_width": null,
      "min_height": null,
      "min_width": null,
      "object_fit": null,
      "object_position": null,
      "order": null,
      "overflow": null,
      "overflow_x": null,
      "overflow_y": null,
      "padding": null,
      "right": null,
      "top": null,
      "visibility": null,
      "width": null
     }
    },
    "a2893cefad05450cb76607d068a49d9c": {
     "model_module": "@jupyter-widgets/controls",
     "model_module_version": "1.5.0",
     "model_name": "FloatProgressModel",
     "state": {
      "_dom_classes": [],
      "_model_module": "@jupyter-widgets/controls",
      "_model_module_version": "1.5.0",
      "_model_name": "FloatProgressModel",
      "_view_count": null,
      "_view_module": "@jupyter-widgets/controls",
      "_view_module_version": "1.5.0",
      "_view_name": "ProgressView",
      "bar_style": "success",
      "description": "",
      "description_tooltip": null,
      "layout": "IPY_MODEL_ead1ddabede24f4d86bd6b5898cae507",
      "max": 283307,
      "min": 0,
      "orientation": "horizontal",
      "style": "IPY_MODEL_467288b2af9e438aa2ecd4a9f5b8c4b2",
      "value": 283307
     }
    },
    "a324d9b300994d2d8eda1b948db31a5f": {
     "model_module": "@jupyter-widgets/base",
     "model_module_version": "1.2.0",
     "model_name": "LayoutModel",
     "state": {
      "_model_module": "@jupyter-widgets/base",
      "_model_module_version": "1.2.0",
      "_model_name": "LayoutModel",
      "_view_count": null,
      "_view_module": "@jupyter-widgets/base",
      "_view_module_version": "1.2.0",
      "_view_name": "LayoutView",
      "align_content": null,
      "align_items": null,
      "align_self": null,
      "border": null,
      "bottom": null,
      "display": null,
      "flex": null,
      "flex_flow": null,
      "grid_area": null,
      "grid_auto_columns": null,
      "grid_auto_flow": null,
      "grid_auto_rows": null,
      "grid_column": null,
      "grid_gap": null,
      "grid_row": null,
      "grid_template_areas": null,
      "grid_template_columns": null,
      "grid_template_rows": null,
      "height": null,
      "justify_content": null,
      "justify_items": null,
      "left": null,
      "margin": null,
      "max_height": null,
      "max_width": null,
      "min_height": null,
      "min_width": null,
      "object_fit": null,
      "object_position": null,
      "order": null,
      "overflow": null,
      "overflow_x": null,
      "overflow_y": null,
      "padding": null,
      "right": null,
      "top": null,
      "visibility": null,
      "width": null
     }
    },
    "a64971145e9f4114b4ced66f130d1ac1": {
     "model_module": "@jupyter-widgets/controls",
     "model_module_version": "1.5.0",
     "model_name": "HBoxModel",
     "state": {
      "_dom_classes": [],
      "_model_module": "@jupyter-widgets/controls",
      "_model_module_version": "1.5.0",
      "_model_name": "HBoxModel",
      "_view_count": null,
      "_view_module": "@jupyter-widgets/controls",
      "_view_module_version": "1.5.0",
      "_view_name": "HBoxView",
      "box_style": "",
      "children": [
       "IPY_MODEL_86685dfaa4894897956a2cf84a1562af",
       "IPY_MODEL_ae130a0bd8f04ab59ad113ff6a036d71",
       "IPY_MODEL_5324a068948449d59c13066a990c49b2"
      ],
      "layout": "IPY_MODEL_7af52c9002dc406fb00be7a3a209c1eb"
     }
    },
    "a9461c96122c440caba4cfd1dfe35cc6": {
     "model_module": "@jupyter-widgets/base",
     "model_module_version": "1.2.0",
     "model_name": "LayoutModel",
     "state": {
      "_model_module": "@jupyter-widgets/base",
      "_model_module_version": "1.2.0",
      "_model_name": "LayoutModel",
      "_view_count": null,
      "_view_module": "@jupyter-widgets/base",
      "_view_module_version": "1.2.0",
      "_view_name": "LayoutView",
      "align_content": null,
      "align_items": null,
      "align_self": null,
      "border": null,
      "bottom": null,
      "display": null,
      "flex": null,
      "flex_flow": null,
      "grid_area": null,
      "grid_auto_columns": null,
      "grid_auto_flow": null,
      "grid_auto_rows": null,
      "grid_column": null,
      "grid_gap": null,
      "grid_row": null,
      "grid_template_areas": null,
      "grid_template_columns": null,
      "grid_template_rows": null,
      "height": null,
      "justify_content": null,
      "justify_items": null,
      "left": null,
      "margin": null,
      "max_height": null,
      "max_width": null,
      "min_height": null,
      "min_width": null,
      "object_fit": null,
      "object_position": null,
      "order": null,
      "overflow": null,
      "overflow_x": null,
      "overflow_y": null,
      "padding": null,
      "right": null,
      "top": null,
      "visibility": null,
      "width": null
     }
    },
    "a9c2b653741147f393f1d7e92faa7732": {
     "model_module": "@jupyter-widgets/controls",
     "model_module_version": "1.5.0",
     "model_name": "FloatProgressModel",
     "state": {
      "_dom_classes": [],
      "_model_module": "@jupyter-widgets/controls",
      "_model_module_version": "1.5.0",
      "_model_name": "FloatProgressModel",
      "_view_count": null,
      "_view_module": "@jupyter-widgets/controls",
      "_view_module_version": "1.5.0",
      "_view_name": "ProgressView",
      "bar_style": "success",
      "description": "",
      "description_tooltip": null,
      "layout": "IPY_MODEL_3ed9f01036384b689dfad28f69849233",
      "max": 311883,
      "min": 0,
      "orientation": "horizontal",
      "style": "IPY_MODEL_ca0ec3cac36945ee9fdbf35c8388cf3f",
      "value": 311883
     }
    },
    "ae130a0bd8f04ab59ad113ff6a036d71": {
     "model_module": "@jupyter-widgets/controls",
     "model_module_version": "1.5.0",
     "model_name": "FloatProgressModel",
     "state": {
      "_dom_classes": [],
      "_model_module": "@jupyter-widgets/controls",
      "_model_module_version": "1.5.0",
      "_model_name": "FloatProgressModel",
      "_view_count": null,
      "_view_module": "@jupyter-widgets/controls",
      "_view_module_version": "1.5.0",
      "_view_name": "ProgressView",
      "bar_style": "success",
      "description": "",
      "description_tooltip": null,
      "layout": "IPY_MODEL_edd2a1516c02409aaeef5b1df06f7714",
      "max": 1227788,
      "min": 0,
      "orientation": "horizontal",
      "style": "IPY_MODEL_419db0b284d14265a81a778c41151c9d",
      "value": 1227788
     }
    },
    "b0790a4ea7114d3da6017a31acb60cdc": {
     "model_module": "@jupyter-widgets/base",
     "model_module_version": "1.2.0",
     "model_name": "LayoutModel",
     "state": {
      "_model_module": "@jupyter-widgets/base",
      "_model_module_version": "1.2.0",
      "_model_name": "LayoutModel",
      "_view_count": null,
      "_view_module": "@jupyter-widgets/base",
      "_view_module_version": "1.2.0",
      "_view_name": "LayoutView",
      "align_content": null,
      "align_items": null,
      "align_self": null,
      "border": null,
      "bottom": null,
      "display": null,
      "flex": null,
      "flex_flow": null,
      "grid_area": null,
      "grid_auto_columns": null,
      "grid_auto_flow": null,
      "grid_auto_rows": null,
      "grid_column": null,
      "grid_gap": null,
      "grid_row": null,
      "grid_template_areas": null,
      "grid_template_columns": null,
      "grid_template_rows": null,
      "height": null,
      "justify_content": null,
      "justify_items": null,
      "left": null,
      "margin": null,
      "max_height": null,
      "max_width": null,
      "min_height": null,
      "min_width": null,
      "object_fit": null,
      "object_position": null,
      "order": null,
      "overflow": null,
      "overflow_x": null,
      "overflow_y": null,
      "padding": null,
      "right": null,
      "top": null,
      "visibility": null,
      "width": null
     }
    },
    "b11f6f7e9c2242eaaa910d2f84c76979": {
     "model_module": "@jupyter-widgets/controls",
     "model_module_version": "1.5.0",
     "model_name": "HTMLModel",
     "state": {
      "_dom_classes": [],
      "_model_module": "@jupyter-widgets/controls",
      "_model_module_version": "1.5.0",
      "_model_name": "HTMLModel",
      "_view_count": null,
      "_view_module": "@jupyter-widgets/controls",
      "_view_module_version": "1.5.0",
      "_view_name": "HTMLView",
      "description": "",
      "description_tooltip": null,
      "layout": "IPY_MODEL_d20c5a2377df496d9465bd67e93432f8",
      "placeholder": "​",
      "style": "IPY_MODEL_d99bef49e8814e2d8a2a173b89a22397",
      "value": " 14041/0 [00:00&lt;00:00, 234943.94 examples/s]"
     }
    },
    "b3bc94c0178f445984326991df5ea33c": {
     "model_module": "@jupyter-widgets/controls",
     "model_module_version": "1.5.0",
     "model_name": "HBoxModel",
     "state": {
      "_dom_classes": [],
      "_model_module": "@jupyter-widgets/controls",
      "_model_module_version": "1.5.0",
      "_model_name": "HBoxModel",
      "_view_count": null,
      "_view_module": "@jupyter-widgets/controls",
      "_view_module_version": "1.5.0",
      "_view_name": "HBoxView",
      "box_style": "",
      "children": [
       "IPY_MODEL_c9ef787588f84f198813f3f2ef194e10",
       "IPY_MODEL_a9c2b653741147f393f1d7e92faa7732",
       "IPY_MODEL_0360d964a2d84ebeb744f948a6c211f0"
      ],
      "layout": "IPY_MODEL_a9461c96122c440caba4cfd1dfe35cc6"
     }
    },
    "baf4770abffa4ac69f3335446e7c921a": {
     "model_module": "@jupyter-widgets/controls",
     "model_module_version": "1.5.0",
     "model_name": "HTMLModel",
     "state": {
      "_dom_classes": [],
      "_model_module": "@jupyter-widgets/controls",
      "_model_module_version": "1.5.0",
      "_model_name": "HTMLModel",
      "_view_count": null,
      "_view_module": "@jupyter-widgets/controls",
      "_view_module_version": "1.5.0",
      "_view_name": "HTMLView",
      "description": "",
      "description_tooltip": null,
      "layout": "IPY_MODEL_4ccd910dbb83440399d88e9f2b155fc1",
      "placeholder": "​",
      "style": "IPY_MODEL_2d81f9a425464442aa5c89c02aedbae8",
      "value": "Generating validation split: "
     }
    },
    "bb37c4b079d844e389f7caf4da594d63": {
     "model_module": "@jupyter-widgets/controls",
     "model_module_version": "1.5.0",
     "model_name": "DescriptionStyleModel",
     "state": {
      "_model_module": "@jupyter-widgets/controls",
      "_model_module_version": "1.5.0",
      "_model_name": "DescriptionStyleModel",
      "_view_count": null,
      "_view_module": "@jupyter-widgets/base",
      "_view_module_version": "1.2.0",
      "_view_name": "StyleView",
      "description_width": ""
     }
    },
    "bdd4e5e110654300be23554a67985802": {
     "model_module": "@jupyter-widgets/controls",
     "model_module_version": "1.5.0",
     "model_name": "DescriptionStyleModel",
     "state": {
      "_model_module": "@jupyter-widgets/controls",
      "_model_module_version": "1.5.0",
      "_model_name": "DescriptionStyleModel",
      "_view_count": null,
      "_view_module": "@jupyter-widgets/base",
      "_view_module_version": "1.2.0",
      "_view_name": "StyleView",
      "description_width": ""
     }
    },
    "c9ef787588f84f198813f3f2ef194e10": {
     "model_module": "@jupyter-widgets/controls",
     "model_module_version": "1.5.0",
     "model_name": "HTMLModel",
     "state": {
      "_dom_classes": [],
      "_model_module": "@jupyter-widgets/controls",
      "_model_module_version": "1.5.0",
      "_model_name": "HTMLModel",
      "_view_count": null,
      "_view_module": "@jupyter-widgets/controls",
      "_view_module_version": "1.5.0",
      "_view_name": "HTMLView",
      "description": "",
      "description_tooltip": null,
      "layout": "IPY_MODEL_7fe033a7fdde494db73d7266f587b135",
      "placeholder": "​",
      "style": "IPY_MODEL_bdd4e5e110654300be23554a67985802",
      "value": "0000.parquet: 100%"
     }
    },
    "ca0ec3cac36945ee9fdbf35c8388cf3f": {
     "model_module": "@jupyter-widgets/controls",
     "model_module_version": "1.5.0",
     "model_name": "ProgressStyleModel",
     "state": {
      "_model_module": "@jupyter-widgets/controls",
      "_model_module_version": "1.5.0",
      "_model_name": "ProgressStyleModel",
      "_view_count": null,
      "_view_module": "@jupyter-widgets/base",
      "_view_module_version": "1.2.0",
      "_view_name": "StyleView",
      "bar_color": null,
      "description_width": ""
     }
    },
    "cfa69c867d1b4ae592db3296fe36a3cd": {
     "model_module": "@jupyter-widgets/base",
     "model_module_version": "1.2.0",
     "model_name": "LayoutModel",
     "state": {
      "_model_module": "@jupyter-widgets/base",
      "_model_module_version": "1.2.0",
      "_model_name": "LayoutModel",
      "_view_count": null,
      "_view_module": "@jupyter-widgets/base",
      "_view_module_version": "1.2.0",
      "_view_name": "LayoutView",
      "align_content": null,
      "align_items": null,
      "align_self": null,
      "border": null,
      "bottom": null,
      "display": null,
      "flex": null,
      "flex_flow": null,
      "grid_area": null,
      "grid_auto_columns": null,
      "grid_auto_flow": null,
      "grid_auto_rows": null,
      "grid_column": null,
      "grid_gap": null,
      "grid_row": null,
      "grid_template_areas": null,
      "grid_template_columns": null,
      "grid_template_rows": null,
      "height": null,
      "justify_content": null,
      "justify_items": null,
      "left": null,
      "margin": null,
      "max_height": null,
      "max_width": null,
      "min_height": null,
      "min_width": null,
      "object_fit": null,
      "object_position": null,
      "order": null,
      "overflow": null,
      "overflow_x": null,
      "overflow_y": null,
      "padding": null,
      "right": null,
      "top": null,
      "visibility": null,
      "width": "20px"
     }
    },
    "d20c5a2377df496d9465bd67e93432f8": {
     "model_module": "@jupyter-widgets/base",
     "model_module_version": "1.2.0",
     "model_name": "LayoutModel",
     "state": {
      "_model_module": "@jupyter-widgets/base",
      "_model_module_version": "1.2.0",
      "_model_name": "LayoutModel",
      "_view_count": null,
      "_view_module": "@jupyter-widgets/base",
      "_view_module_version": "1.2.0",
      "_view_name": "LayoutView",
      "align_content": null,
      "align_items": null,
      "align_self": null,
      "border": null,
      "bottom": null,
      "display": null,
      "flex": null,
      "flex_flow": null,
      "grid_area": null,
      "grid_auto_columns": null,
      "grid_auto_flow": null,
      "grid_auto_rows": null,
      "grid_column": null,
      "grid_gap": null,
      "grid_row": null,
      "grid_template_areas": null,
      "grid_template_columns": null,
      "grid_template_rows": null,
      "height": null,
      "justify_content": null,
      "justify_items": null,
      "left": null,
      "margin": null,
      "max_height": null,
      "max_width": null,
      "min_height": null,
      "min_width": null,
      "object_fit": null,
      "object_position": null,
      "order": null,
      "overflow": null,
      "overflow_x": null,
      "overflow_y": null,
      "padding": null,
      "right": null,
      "top": null,
      "visibility": null,
      "width": null
     }
    },
    "d99bef49e8814e2d8a2a173b89a22397": {
     "model_module": "@jupyter-widgets/controls",
     "model_module_version": "1.5.0",
     "model_name": "DescriptionStyleModel",
     "state": {
      "_model_module": "@jupyter-widgets/controls",
      "_model_module_version": "1.5.0",
      "_model_name": "DescriptionStyleModel",
      "_view_count": null,
      "_view_module": "@jupyter-widgets/base",
      "_view_module_version": "1.2.0",
      "_view_name": "StyleView",
      "description_width": ""
     }
    },
    "e26d275f65f040d2a787a1ad8080ece4": {
     "model_module": "@jupyter-widgets/controls",
     "model_module_version": "1.5.0",
     "model_name": "HTMLModel",
     "state": {
      "_dom_classes": [],
      "_model_module": "@jupyter-widgets/controls",
      "_model_module_version": "1.5.0",
      "_model_name": "HTMLModel",
      "_view_count": null,
      "_view_module": "@jupyter-widgets/controls",
      "_view_module_version": "1.5.0",
      "_view_name": "HTMLView",
      "description": "",
      "description_tooltip": null,
      "layout": "IPY_MODEL_036e4a12847141cea6a8039ff1f5e48e",
      "placeholder": "​",
      "style": "IPY_MODEL_88d5b64791d54d92992a0a1c2ec7dfe5",
      "value": "Generating train split: "
     }
    },
    "ead1ddabede24f4d86bd6b5898cae507": {
     "model_module": "@jupyter-widgets/base",
     "model_module_version": "1.2.0",
     "model_name": "LayoutModel",
     "state": {
      "_model_module": "@jupyter-widgets/base",
      "_model_module_version": "1.2.0",
      "_model_name": "LayoutModel",
      "_view_count": null,
      "_view_module": "@jupyter-widgets/base",
      "_view_module_version": "1.2.0",
      "_view_name": "LayoutView",
      "align_content": null,
      "align_items": null,
      "align_self": null,
      "border": null,
      "bottom": null,
      "display": null,
      "flex": null,
      "flex_flow": null,
      "grid_area": null,
      "grid_auto_columns": null,
      "grid_auto_flow": null,
      "grid_auto_rows": null,
      "grid_column": null,
      "grid_gap": null,
      "grid_row": null,
      "grid_template_areas": null,
      "grid_template_columns": null,
      "grid_template_rows": null,
      "height": null,
      "justify_content": null,
      "justify_items": null,
      "left": null,
      "margin": null,
      "max_height": null,
      "max_width": null,
      "min_height": null,
      "min_width": null,
      "object_fit": null,
      "object_position": null,
      "order": null,
      "overflow": null,
      "overflow_x": null,
      "overflow_y": null,
      "padding": null,
      "right": null,
      "top": null,
      "visibility": null,
      "width": null
     }
    },
    "edd2a1516c02409aaeef5b1df06f7714": {
     "model_module": "@jupyter-widgets/base",
     "model_module_version": "1.2.0",
     "model_name": "LayoutModel",
     "state": {
      "_model_module": "@jupyter-widgets/base",
      "_model_module_version": "1.2.0",
      "_model_name": "LayoutModel",
      "_view_count": null,
      "_view_module": "@jupyter-widgets/base",
      "_view_module_version": "1.2.0",
      "_view_name": "LayoutView",
      "align_content": null,
      "align_items": null,
      "align_self": null,
      "border": null,
      "bottom": null,
      "display": null,
      "flex": null,
      "flex_flow": null,
      "grid_area": null,
      "grid_auto_columns": null,
      "grid_auto_flow": null,
      "grid_auto_rows": null,
      "grid_column": null,
      "grid_gap": null,
      "grid_row": null,
      "grid_template_areas": null,
      "grid_template_columns": null,
      "grid_template_rows": null,
      "height": null,
      "justify_content": null,
      "justify_items": null,
      "left": null,
      "margin": null,
      "max_height": null,
      "max_width": null,
      "min_height": null,
      "min_width": null,
      "object_fit": null,
      "object_position": null,
      "order": null,
      "overflow": null,
      "overflow_x": null,
      "overflow_y": null,
      "padding": null,
      "right": null,
      "top": null,
      "visibility": null,
      "width": null
     }
    },
    "f1b127ad84e14197ad7952c56bf3686d": {
     "model_module": "@jupyter-widgets/controls",
     "model_module_version": "1.5.0",
     "model_name": "HTMLModel",
     "state": {
      "_dom_classes": [],
      "_model_module": "@jupyter-widgets/controls",
      "_model_module_version": "1.5.0",
      "_model_name": "HTMLModel",
      "_view_count": null,
      "_view_module": "@jupyter-widgets/controls",
      "_view_module_version": "1.5.0",
      "_view_name": "HTMLView",
      "description": "",
      "description_tooltip": null,
      "layout": "IPY_MODEL_415ffcd6fe694680a75e04052a8c9a87",
      "placeholder": "​",
      "style": "IPY_MODEL_820c96c6378c4f62bdecde13d7a1a6dd",
      "value": " 283k/283k [00:00&lt;00:00, 26.5MB/s]"
     }
    },
    "fa0788122d0e4a999900eb50a11eef83": {
     "model_module": "@jupyter-widgets/base",
     "model_module_version": "1.2.0",
     "model_name": "LayoutModel",
     "state": {
      "_model_module": "@jupyter-widgets/base",
      "_model_module_version": "1.2.0",
      "_model_name": "LayoutModel",
      "_view_count": null,
      "_view_module": "@jupyter-widgets/base",
      "_view_module_version": "1.2.0",
      "_view_name": "LayoutView",
      "align_content": null,
      "align_items": null,
      "align_self": null,
      "border": null,
      "bottom": null,
      "display": null,
      "flex": null,
      "flex_flow": null,
      "grid_area": null,
      "grid_auto_columns": null,
      "grid_auto_flow": null,
      "grid_auto_rows": null,
      "grid_column": null,
      "grid_gap": null,
      "grid_row": null,
      "grid_template_areas": null,
      "grid_template_columns": null,
      "grid_template_rows": null,
      "height": null,
      "justify_content": null,
      "justify_items": null,
      "left": null,
      "margin": null,
      "max_height": null,
      "max_width": null,
      "min_height": null,
      "min_width": null,
      "object_fit": null,
      "object_position": null,
      "order": null,
      "overflow": null,
      "overflow_x": null,
      "overflow_y": null,
      "padding": null,
      "right": null,
      "top": null,
      "visibility": null,
      "width": null
     }
    },
    "faf4e40f41d04477b67c7af08c1022da": {
     "model_module": "@jupyter-widgets/controls",
     "model_module_version": "1.5.0",
     "model_name": "HTMLModel",
     "state": {
      "_dom_classes": [],
      "_model_module": "@jupyter-widgets/controls",
      "_model_module_version": "1.5.0",
      "_model_name": "HTMLModel",
      "_view_count": null,
      "_view_module": "@jupyter-widgets/controls",
      "_view_module_version": "1.5.0",
      "_view_name": "HTMLView",
      "description": "",
      "description_tooltip": null,
      "layout": "IPY_MODEL_fa0788122d0e4a999900eb50a11eef83",
      "placeholder": "​",
      "style": "IPY_MODEL_0856902e2a5240e58ffd90522417f2f5",
      "value": " 3453/0 [00:00&lt;00:00, 103249.65 examples/s]"
     }
    }
   }
  }
 },
 "nbformat": 4,
 "nbformat_minor": 1
}
