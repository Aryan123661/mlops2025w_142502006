{
 "cells": [
  {
   "cell_type": "code",
   "execution_count": 13,
   "id": "9a807835",
   "metadata": {},
   "outputs": [
    {
     "name": "stdout",
     "output_type": "stream",
     "text": [
      "Train size: 2000 Test size: 500\n"
     ]
    },
    {
     "data": {
      "text/html": [
       "<div>\n",
       "<style scoped>\n",
       "    .dataframe tbody tr th:only-of-type {\n",
       "        vertical-align: middle;\n",
       "    }\n",
       "\n",
       "    .dataframe tbody tr th {\n",
       "        vertical-align: top;\n",
       "    }\n",
       "\n",
       "    .dataframe thead th {\n",
       "        text-align: right;\n",
       "    }\n",
       "</style>\n",
       "<table border=\"1\" class=\"dataframe\">\n",
       "  <thead>\n",
       "    <tr style=\"text-align: right;\">\n",
       "      <th></th>\n",
       "      <th>text</th>\n",
       "      <th>label</th>\n",
       "    </tr>\n",
       "  </thead>\n",
       "  <tbody>\n",
       "    <tr>\n",
       "      <th>0</th>\n",
       "      <td>I rented I AM CURIOUS-YELLOW from my video sto...</td>\n",
       "      <td>0</td>\n",
       "    </tr>\n",
       "    <tr>\n",
       "      <th>1</th>\n",
       "      <td>\"I Am Curious: Yellow\" is a risible and preten...</td>\n",
       "      <td>0</td>\n",
       "    </tr>\n",
       "    <tr>\n",
       "      <th>2</th>\n",
       "      <td>If only to avoid making this type of film in t...</td>\n",
       "      <td>0</td>\n",
       "    </tr>\n",
       "    <tr>\n",
       "      <th>3</th>\n",
       "      <td>This film was probably inspired by Godard's Ma...</td>\n",
       "      <td>0</td>\n",
       "    </tr>\n",
       "    <tr>\n",
       "      <th>4</th>\n",
       "      <td>Oh, brother...after hearing about this ridicul...</td>\n",
       "      <td>0</td>\n",
       "    </tr>\n",
       "  </tbody>\n",
       "</table>\n",
       "</div>"
      ],
      "text/plain": [
       "                                                text  label\n",
       "0  I rented I AM CURIOUS-YELLOW from my video sto...      0\n",
       "1  \"I Am Curious: Yellow\" is a risible and preten...      0\n",
       "2  If only to avoid making this type of film in t...      0\n",
       "3  This film was probably inspired by Godard's Ma...      0\n",
       "4  Oh, brother...after hearing about this ridicul...      0"
      ]
     },
     "execution_count": 13,
     "metadata": {},
     "output_type": "execute_result"
    }
   ],
   "source": [
    "from datasets import load_dataset\n",
    "import pandas as pd\n",
    "# Load 2000 training and 500 test examples for speed\n",
    "imdb = load_dataset(\"imdb\")\n",
    "train = pd.DataFrame(imdb[\"train\"].select(range(2000)))\n",
    "test = pd.DataFrame(imdb[\"test\"].select(range(500)))\n",
    "print(\"Train size:\", len(train), \"Test size:\", len(test))\n",
    "train.head()"
   ]
  },
  {
   "cell_type": "code",
   "execution_count": 14,
   "id": "16247155",
   "metadata": {},
   "outputs": [],
   "source": [
    "import re\n",
    "def clean_text(text):\n",
    "    text = re.sub(r\"<br\\s*/?>\", \" \", text)\n",
    "    text = re.sub(r\"[^\\w\\s']\", \"\", text)\n",
    "    return text.lower()\n",
    "train[\"text\"] = train[\"text\"].apply(clean_text)\n",
    "test[\"text\"] = test[\"text\"].apply(clean_text)"
   ]
  },
  {
   "cell_type": "code",
   "execution_count": 15,
   "id": "075baadf",
   "metadata": {},
   "outputs": [],
   "source": [
    "from snorkel.labeling import labeling_function, LFAnalysis\n",
    "from snorkel.labeling.model import LabelModel\n",
    "ABSTAIN, NEG, POS = -1, 0, 1\n",
    "positive_words = {\"great\",\"excellent\",\"amazing\",\"wonderful\",\"best\",\"fantastic\"}\n",
    "negative_words = {\"bad\",\"terrible\",\"awful\",\"worst\",\"boring\",\"poor\"}\n",
    "@labeling_function()\n",
    "def lf_positive(x):\n",
    "    return POS if any(w in x.text.split() for w in positive_words) else ABSTAIN\n",
    "@labeling_function()\n",
    "def lf_negative(x):\n",
    "    return NEG if any(w in x.text.split() for w in negative_words) else ABSTAIN\n",
    "@labeling_function()\n",
    "def lf_exclaim(x):\n",
    "    return POS if x.text.count(\"!\") > 2 else ABSTAIN\n",
    "lfs = [lf_positive, lf_negative, lf_exclaim]"
   ]
  },
  {
   "cell_type": "code",
   "execution_count": 16,
   "id": "78cc0a46",
   "metadata": {},
   "outputs": [
    {
     "name": "stderr",
     "output_type": "stream",
     "text": [
      "100%|████████████████████████████████████| 2000/2000 [00:00<00:00, 10201.22it/s]\n"
     ]
    },
    {
     "name": "stdout",
     "output_type": "stream",
     "text": [
      "             j Polarity  Coverage  Overlaps  Conflicts\n",
      "lf_positive  0      [1]    0.3210    0.1795     0.1795\n",
      "lf_negative  1      [0]    0.5635    0.1795     0.1795\n",
      "lf_exclaim   2       []    0.0000    0.0000     0.0000\n"
     ]
    }
   ],
   "source": [
    "from snorkel.labeling import PandasLFApplier, LFAnalysis\n",
    "\n",
    "# Apply LFs\n",
    "applier = PandasLFApplier(lfs)\n",
    "L_train = applier.apply(train)\n",
    "\n",
    "# Analyze LFs\n",
    "analysis = LFAnalysis(L=L_train, lfs=lfs)\n",
    "print(analysis.lf_summary())\n"
   ]
  },
  {
   "cell_type": "code",
   "execution_count": 17,
   "id": "c747613d",
   "metadata": {},
   "outputs": [
    {
     "name": "stderr",
     "output_type": "stream",
     "text": [
      "INFO:root:Computing O...\n",
      "INFO:root:Estimating \\mu...\n",
      "  0%|                                                | 0/500 [00:00<?, ?epoch/s]INFO:root:[0 epochs]: TRAIN:[loss=0.293]\n",
      "INFO:root:[100 epochs]: TRAIN:[loss=0.000]\n",
      " 32%|███████████▋                        | 162/500 [00:00<00:00, 1618.56epoch/s]INFO:root:[200 epochs]: TRAIN:[loss=0.000]\n",
      "INFO:root:[300 epochs]: TRAIN:[loss=0.000]\n",
      " 67%|███████████████████████▉            | 333/500 [00:00<00:00, 1669.51epoch/s]INFO:root:[400 epochs]: TRAIN:[loss=0.000]\n",
      "100%|████████████████████████████████████| 500/500 [00:00<00:00, 1657.27epoch/s]\n",
      "INFO:root:Finished Training\n"
     ]
    }
   ],
   "source": [
    "\n",
    "label_model = LabelModel(cardinality=2, verbose=True)\n",
    "label_model.fit(L_train=L_train, n_epochs=500, log_freq=100, seed=42)\n",
    "# Get probabilistic labels\n",
    "train_probs = label_model.predict_proba(L_train)\n",
    "train_preds = label_model.predict(L_train)"
   ]
  },
  {
   "cell_type": "code",
   "execution_count": 19,
   "id": "be84608f",
   "metadata": {},
   "outputs": [
    {
     "name": "stdout",
     "output_type": "stream",
     "text": [
      "              precision    recall  f1-score   support\n",
      "\n",
      "     abstain       0.00      0.00      0.00         0\n",
      "         neg       1.00      0.81      0.90       500\n",
      "         pos       0.00      0.00      0.00         0\n",
      "\n",
      "    accuracy                           0.81       500\n",
      "   macro avg       0.33      0.27      0.30       500\n",
      "weighted avg       1.00      0.81      0.90       500\n",
      "\n"
     ]
    },
    {
     "name": "stderr",
     "output_type": "stream",
     "text": [
      "/usr/local/lib/python3.10/dist-packages/sklearn/metrics/_classification.py:1731: UndefinedMetricWarning: Recall is ill-defined and being set to 0.0 in labels with no true samples. Use `zero_division` parameter to control this behavior.\n",
      "  _warn_prf(average, modifier, f\"{metric.capitalize()} is\", result.shape[0])\n",
      "/usr/local/lib/python3.10/dist-packages/sklearn/metrics/_classification.py:1731: UndefinedMetricWarning: Recall is ill-defined and being set to 0.0 in labels with no true samples. Use `zero_division` parameter to control this behavior.\n",
      "  _warn_prf(average, modifier, f\"{metric.capitalize()} is\", result.shape[0])\n",
      "/usr/local/lib/python3.10/dist-packages/sklearn/metrics/_classification.py:1731: UndefinedMetricWarning: Recall is ill-defined and being set to 0.0 in labels with no true samples. Use `zero_division` parameter to control this behavior.\n",
      "  _warn_prf(average, modifier, f\"{metric.capitalize()} is\", result.shape[0])\n"
     ]
    }
   ],
   "source": [
    "from sklearn.feature_extraction.text import TfidfVectorizer\n",
    "from sklearn.linear_model import LogisticRegression\n",
    "from sklearn.metrics import classification_report\n",
    "# Vectorize\n",
    "vectorizer = TfidfVectorizer(max_features=5_000)\n",
    "X_train = vectorizer.fit_transform(train[\"text\"])\n",
    "y_train = train_preds\n",
    "# Fit classifier\n",
    "clf = LogisticRegression(max_iter=200)\n",
    "clf.fit(X_train, y_train)\n",
    "# Evaluate on test set\n",
    "X_test = vectorizer.transform(test[\"text\"])\n",
    "y_test = test[\"label\"]\n",
    "preds = clf.predict(X_test)\n",
    "print(classification_report(y_test, preds, target_names=[\"abstain\",\"neg\",\"pos\"]))"
   ]
  },
  {
   "cell_type": "code",
   "execution_count": 23,
   "id": "64108215",
   "metadata": {},
   "outputs": [
    {
     "name": "stdout",
     "output_type": "stream",
     "text": [
      "label\n",
      "0    1040\n",
      "1     960\n",
      "Name: count, dtype: int64\n"
     ]
    }
   ],
   "source": [
    "import pandas as pd\n",
    "\n",
    "# Take a random sample so both classes appear\n",
    "train = pd.DataFrame(imdb[\"train\"]).sample(2000, random_state=42)\n",
    "test = pd.DataFrame(imdb[\"test\"]).sample(500, random_state=42)\n",
    "\n",
    "print(train[\"label\"].value_counts())\n"
   ]
  },
  {
   "cell_type": "code",
   "execution_count": 24,
   "id": "96d7c6d6",
   "metadata": {},
   "outputs": [
    {
     "name": "stdout",
     "output_type": "stream",
     "text": [
      "Fully supervised performance:\n",
      "              precision    recall  f1-score   support\n",
      "\n",
      "         neg       1.00      0.59      0.74       500\n",
      "         pos       0.00      0.00      0.00         0\n",
      "\n",
      "    accuracy                           0.59       500\n",
      "   macro avg       0.50      0.29      0.37       500\n",
      "weighted avg       1.00      0.59      0.74       500\n",
      "\n"
     ]
    },
    {
     "name": "stderr",
     "output_type": "stream",
     "text": [
      "/usr/local/lib/python3.10/dist-packages/sklearn/metrics/_classification.py:1731: UndefinedMetricWarning: Recall is ill-defined and being set to 0.0 in labels with no true samples. Use `zero_division` parameter to control this behavior.\n",
      "  _warn_prf(average, modifier, f\"{metric.capitalize()} is\", result.shape[0])\n",
      "/usr/local/lib/python3.10/dist-packages/sklearn/metrics/_classification.py:1731: UndefinedMetricWarning: Recall is ill-defined and being set to 0.0 in labels with no true samples. Use `zero_division` parameter to control this behavior.\n",
      "  _warn_prf(average, modifier, f\"{metric.capitalize()} is\", result.shape[0])\n",
      "/usr/local/lib/python3.10/dist-packages/sklearn/metrics/_classification.py:1731: UndefinedMetricWarning: Recall is ill-defined and being set to 0.0 in labels with no true samples. Use `zero_division` parameter to control this behavior.\n",
      "  _warn_prf(average, modifier, f\"{metric.capitalize()} is\", result.shape[0])\n"
     ]
    }
   ],
   "source": [
    "clf_fs = LogisticRegression(max_iter=200)\n",
    "clf_fs.fit(X_train, train[\"label\"])\n",
    "fs_preds = clf_fs.predict(X_test)\n",
    "print(\"Fully supervised performance:\")\n",
    "print(classification_report(y_test, fs_preds, target_names=[\"neg\",\"pos\"]))"
   ]
  },
  {
   "cell_type": "code",
   "execution_count": null,
   "id": "78109103",
   "metadata": {},
   "outputs": [],
   "source": []
  }
 ],
 "metadata": {
  "kernelspec": {
   "display_name": "Python 3 (ipykernel)",
   "language": "python",
   "name": "python3"
  },
  "language_info": {
   "codemirror_mode": {
    "name": "ipython",
    "version": 3
   },
   "file_extension": ".py",
   "mimetype": "text/x-python",
   "name": "python",
   "nbconvert_exporter": "python",
   "pygments_lexer": "ipython3",
   "version": "3.10.12"
  }
 },
 "nbformat": 4,
 "nbformat_minor": 5
}
